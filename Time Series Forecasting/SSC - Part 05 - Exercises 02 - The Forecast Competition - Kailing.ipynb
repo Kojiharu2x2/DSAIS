{
 "cells": [
  {
   "cell_type": "markdown",
   "metadata": {},
   "source": [
    "<div>\n",
    "    <img src=\"images/emlyon.png\" style=\"height:60px; float:left; padding-right:10px; margin-top:5px\" />\n",
    "    <span>\n",
    "        <h1 style=\"padding-bottom:5px;\"> Smart Supply Chain </h1>\n",
    "        <a href=\"https://masters.em-lyon.com/fr/msc-in-data-science-artificial-intelligence-strategy\">[Emlyon]</a> MSc in Data Science & Artificial Intelligence Strategy (DSAIS) <br/>\n",
    "         February 2023, Paris | © Saeed VARASTEH\n",
    "    </span>\n",
    "</div>"
   ]
  },
  {
   "cell_type": "markdown",
   "metadata": {},
   "source": [
    "### Part 05 - Exercises 02 : The Forecast Competition\n",
    "\n",
    "---\n",
    "<img src=\"images/competition.png\" style=\"width:100px; position:absolute; top:-10px; right:0;\"/>\n",
    "\n",
    "__Objective__: Predict three months of item sales at different stores.\n",
    "\n",
    "__Dataset description__\n",
    "\n",
    "You are given a file named `store_sales.csv`:\n",
    "\n",
    "    date - Date\n",
    "    store - Store ID\n",
    "    item - Item ID\n",
    "    sales - Number of items sold at a particular store on a particular date.\n",
    "    \n"
   ]
  },
  {
   "cell_type": "markdown",
   "metadata": {},
   "source": [
    "### Import data and modules"
   ]
  },
  {
   "cell_type": "markdown",
   "metadata": {},
   "source": [
    "#### Import modules"
   ]
  },
  {
   "cell_type": "code",
   "execution_count": 70,
   "metadata": {},
   "outputs": [],
   "source": [
    "import pandas as pd\n",
    "import numpy as np\n",
    "import matplotlib.pyplot as plt\n",
    "plt.style.use('fivethirtyeight')\n",
    "\n",
    "import warnings\n",
    "warnings.filterwarnings(\"ignore\")"
   ]
  },
  {
   "cell_type": "markdown",
   "metadata": {},
   "source": [
    "#### Import data"
   ]
  },
  {
   "cell_type": "code",
   "execution_count": 71,
   "metadata": {
    "scrolled": true
   },
   "outputs": [
    {
     "name": "stdout",
     "output_type": "stream",
     "text": [
      "(913000, 4)\n"
     ]
    },
    {
     "data": {
      "text/html": [
       "<div>\n",
       "<style scoped>\n",
       "    .dataframe tbody tr th:only-of-type {\n",
       "        vertical-align: middle;\n",
       "    }\n",
       "\n",
       "    .dataframe tbody tr th {\n",
       "        vertical-align: top;\n",
       "    }\n",
       "\n",
       "    .dataframe thead th {\n",
       "        text-align: right;\n",
       "    }\n",
       "</style>\n",
       "<table border=\"1\" class=\"dataframe\">\n",
       "  <thead>\n",
       "    <tr style=\"text-align: right;\">\n",
       "      <th></th>\n",
       "      <th>date</th>\n",
       "      <th>store</th>\n",
       "      <th>item</th>\n",
       "      <th>sales</th>\n",
       "    </tr>\n",
       "  </thead>\n",
       "  <tbody>\n",
       "    <tr>\n",
       "      <th>0</th>\n",
       "      <td>2013-01-01</td>\n",
       "      <td>1</td>\n",
       "      <td>1</td>\n",
       "      <td>13</td>\n",
       "    </tr>\n",
       "    <tr>\n",
       "      <th>1</th>\n",
       "      <td>2013-01-02</td>\n",
       "      <td>1</td>\n",
       "      <td>1</td>\n",
       "      <td>11</td>\n",
       "    </tr>\n",
       "    <tr>\n",
       "      <th>2</th>\n",
       "      <td>2013-01-03</td>\n",
       "      <td>1</td>\n",
       "      <td>1</td>\n",
       "      <td>14</td>\n",
       "    </tr>\n",
       "    <tr>\n",
       "      <th>3</th>\n",
       "      <td>2013-01-04</td>\n",
       "      <td>1</td>\n",
       "      <td>1</td>\n",
       "      <td>13</td>\n",
       "    </tr>\n",
       "    <tr>\n",
       "      <th>4</th>\n",
       "      <td>2013-01-05</td>\n",
       "      <td>1</td>\n",
       "      <td>1</td>\n",
       "      <td>10</td>\n",
       "    </tr>\n",
       "  </tbody>\n",
       "</table>\n",
       "</div>"
      ],
      "text/plain": [
       "         date  store  item  sales\n",
       "0  2013-01-01      1     1     13\n",
       "1  2013-01-02      1     1     11\n",
       "2  2013-01-03      1     1     14\n",
       "3  2013-01-04      1     1     13\n",
       "4  2013-01-05      1     1     10"
      ]
     },
     "execution_count": 71,
     "metadata": {},
     "output_type": "execute_result"
    }
   ],
   "source": [
    "sales = pd.read_csv('./data/store/store_sales.csv')\n",
    "print(sales.shape)\n",
    "sales.head(5)"
   ]
  },
  {
   "cell_type": "markdown",
   "metadata": {},
   "source": [
    "## <span style=\"color:steelblue;\">  Data Exploration  </span>\n"
   ]
  },
  {
   "cell_type": "markdown",
   "metadata": {},
   "source": [
    "#### The data in the sales dataset are from which period?\n",
    "\n",
    "__Hint:__ find the minimum and the maximum of the date.<br/>\n",
    "__Hint:__ do not forget to convert the `date` column into datetime."
   ]
  },
  {
   "cell_type": "code",
   "execution_count": 72,
   "metadata": {
    "scrolled": true
   },
   "outputs": [
    {
     "data": {
      "text/plain": [
       "date     object\n",
       "store     int64\n",
       "item      int64\n",
       "sales     int64\n",
       "dtype: object"
      ]
     },
     "execution_count": 72,
     "metadata": {},
     "output_type": "execute_result"
    }
   ],
   "source": [
    "sales.dtypes"
   ]
  },
  {
   "cell_type": "code",
   "execution_count": 73,
   "metadata": {},
   "outputs": [],
   "source": [
    "sales['date'] = pd.to_datetime(sales['date'],yearfirst=True, format='%Y/%m/%d')"
   ]
  },
  {
   "cell_type": "code",
   "execution_count": 74,
   "metadata": {
    "scrolled": false
   },
   "outputs": [
    {
     "data": {
      "text/plain": [
       "date     datetime64[ns]\n",
       "store             int64\n",
       "item              int64\n",
       "sales             int64\n",
       "dtype: object"
      ]
     },
     "execution_count": 74,
     "metadata": {},
     "output_type": "execute_result"
    }
   ],
   "source": [
    "sales.dtypes"
   ]
  },
  {
   "cell_type": "code",
   "execution_count": 75,
   "metadata": {},
   "outputs": [
    {
     "name": "stdout",
     "output_type": "stream",
     "text": [
      "date     2013-01-01 00:00:00\n",
      "store                      1\n",
      "item                       1\n",
      "sales                      0\n",
      "dtype: object\n",
      "date     2017-12-31 00:00:00\n",
      "store                     10\n",
      "item                      50\n",
      "sales                    231\n",
      "dtype: object\n"
     ]
    }
   ],
   "source": [
    "print(sales.min())\n",
    "print(sales.max())"
   ]
  },
  {
   "cell_type": "markdown",
   "metadata": {},
   "source": [
    "#### How many unique items and stores are in the dataset?"
   ]
  },
  {
   "cell_type": "code",
   "execution_count": 76,
   "metadata": {
    "scrolled": true
   },
   "outputs": [
    {
     "data": {
      "text/plain": [
       "array([ 1,  2,  3,  4,  5,  6,  7,  8,  9, 10, 11, 12, 13, 14, 15, 16, 17,\n",
       "       18, 19, 20, 21, 22, 23, 24, 25, 26, 27, 28, 29, 30, 31, 32, 33, 34,\n",
       "       35, 36, 37, 38, 39, 40, 41, 42, 43, 44, 45, 46, 47, 48, 49, 50],\n",
       "      dtype=int64)"
      ]
     },
     "execution_count": 76,
     "metadata": {},
     "output_type": "execute_result"
    }
   ],
   "source": [
    "sales['item'].unique()"
   ]
  },
  {
   "cell_type": "code",
   "execution_count": 77,
   "metadata": {},
   "outputs": [
    {
     "data": {
      "text/plain": [
       "1     91300\n",
       "2     91300\n",
       "3     91300\n",
       "4     91300\n",
       "5     91300\n",
       "6     91300\n",
       "7     91300\n",
       "8     91300\n",
       "9     91300\n",
       "10    91300\n",
       "Name: store, dtype: int64"
      ]
     },
     "execution_count": 77,
     "metadata": {},
     "output_type": "execute_result"
    }
   ],
   "source": [
    "sales['store'].value_counts()"
   ]
  },
  {
   "cell_type": "markdown",
   "metadata": {},
   "source": [
    "#### Plot average monthly sales for the item_id == 10 at store_id == 1"
   ]
  },
  {
   "cell_type": "code",
   "execution_count": 78,
   "metadata": {
    "scrolled": true
   },
   "outputs": [],
   "source": [
    "df_item = sales[(sales['item'] == 10) & (sales['store']==1)].set_index(\"date\")\n",
    "df_item = df_item.resample('M').mean()"
   ]
  },
  {
   "cell_type": "code",
   "execution_count": 79,
   "metadata": {},
   "outputs": [
    {
     "data": {
      "image/png": "[encoded data removed]",
      "text/plain": [
       "<Figure size 1080x432 with 1 Axes>"
      ]
     },
     "metadata": {},
     "output_type": "display_data"
    }
   ],
   "source": [
    "fig = plt.figure(figsize=(15, 6))\n",
    "df_item['sales'].plot(kind=\"line\", title=\"item 10\");"
   ]
  },
  {
   "cell_type": "markdown",
   "metadata": {},
   "source": [
    "---"
   ]
  },
  {
   "cell_type": "markdown",
   "metadata": {},
   "source": [
    "## <span style=\"color:steelblue;\">  Machine Learning for Time Series Forecasting  </span>\n"
   ]
  },
  {
   "cell_type": "markdown",
   "metadata": {},
   "source": [
    "### <span style=\"color:DarkGray;\">  Data preprocessing and Feature engineering  </span>\n",
    "\n",
    "#### Extract some useful features (e.g. lag, rolling mean, datetime) to use in a machine learning model and them to the `sales` DataFrame."
   ]
  },
  {
   "cell_type": "code",
   "execution_count": 80,
   "metadata": {
    "scrolled": true
   },
   "outputs": [
    {
     "data": {
      "text/html": [
       "<div>\n",
       "<style scoped>\n",
       "    .dataframe tbody tr th:only-of-type {\n",
       "        vertical-align: middle;\n",
       "    }\n",
       "\n",
       "    .dataframe tbody tr th {\n",
       "        vertical-align: top;\n",
       "    }\n",
       "\n",
       "    .dataframe thead th {\n",
       "        text-align: right;\n",
       "    }\n",
       "</style>\n",
       "<table border=\"1\" class=\"dataframe\">\n",
       "  <thead>\n",
       "    <tr style=\"text-align: right;\">\n",
       "      <th></th>\n",
       "      <th>date</th>\n",
       "      <th>store</th>\n",
       "      <th>item</th>\n",
       "      <th>sales</th>\n",
       "    </tr>\n",
       "  </thead>\n",
       "  <tbody>\n",
       "    <tr>\n",
       "      <th>0</th>\n",
       "      <td>2013-01-01</td>\n",
       "      <td>1</td>\n",
       "      <td>1</td>\n",
       "      <td>13</td>\n",
       "    </tr>\n",
       "    <tr>\n",
       "      <th>1</th>\n",
       "      <td>2013-01-02</td>\n",
       "      <td>1</td>\n",
       "      <td>1</td>\n",
       "      <td>11</td>\n",
       "    </tr>\n",
       "    <tr>\n",
       "      <th>2</th>\n",
       "      <td>2013-01-03</td>\n",
       "      <td>1</td>\n",
       "      <td>1</td>\n",
       "      <td>14</td>\n",
       "    </tr>\n",
       "    <tr>\n",
       "      <th>3</th>\n",
       "      <td>2013-01-04</td>\n",
       "      <td>1</td>\n",
       "      <td>1</td>\n",
       "      <td>13</td>\n",
       "    </tr>\n",
       "    <tr>\n",
       "      <th>4</th>\n",
       "      <td>2013-01-05</td>\n",
       "      <td>1</td>\n",
       "      <td>1</td>\n",
       "      <td>10</td>\n",
       "    </tr>\n",
       "  </tbody>\n",
       "</table>\n",
       "</div>"
      ],
      "text/plain": [
       "        date  store  item  sales\n",
       "0 2013-01-01      1     1     13\n",
       "1 2013-01-02      1     1     11\n",
       "2 2013-01-03      1     1     14\n",
       "3 2013-01-04      1     1     13\n",
       "4 2013-01-05      1     1     10"
      ]
     },
     "execution_count": 80,
     "metadata": {},
     "output_type": "execute_result"
    }
   ],
   "source": [
    "sales.head()"
   ]
  },
  {
   "cell_type": "code",
   "execution_count": 81,
   "metadata": {},
   "outputs": [],
   "source": [
    "sales[\"lag_28\"] = sales[[\"store\",\"item\",\"sales\"]].groupby([\"store\",\"item\"])[\"sales\"].shift(28)\n",
    "sales[\"lag_28_2\"] = sales[[\"store\",\"sales\"]].groupby([\"store\"])[\"sales\"].shift(28)\n",
    "sales[\"lag_28_3\"] = sales[[\"item\",\"sales\"]].groupby([\"item\"])[\"sales\"].shift(28)"
   ]
  },
  {
   "cell_type": "code",
   "execution_count": 82,
   "metadata": {},
   "outputs": [],
   "source": [
    "sales[\"rmean_7\"] = sales[[\"store\",\"item\",\"sales\"]].groupby([\"store\",\"item\"])[\"sales\"].transform(lambda x : x.rolling(7).mean())\n",
    "sales[\"rmean_7_2\"] = sales[[\"store\",\"sales\"]].groupby([\"store\"])[\"sales\"].transform(lambda x : x.rolling(7).mean())\n",
    "sales[\"rmean_7_3\"] = sales[[\"item\",\"sales\"]].groupby([\"item\"])[\"sales\"].transform(lambda x : x.rolling(7).mean())"
   ]
  },
  {
   "cell_type": "code",
   "execution_count": 83,
   "metadata": {},
   "outputs": [],
   "source": [
    "#sales[\"rmean_14\"] = sales[[\"store\",\"item\",\"sales\"]].groupby([\"store\",\"item\"])[\"sales\"].transform(lambda x : x.rolling(14).mean())"
   ]
  },
  {
   "cell_type": "code",
   "execution_count": 84,
   "metadata": {},
   "outputs": [],
   "source": [
    "sales[\"rmean_28_7\"] = sales[[\"store\",\"item\",\"lag_28\"]].groupby([\"store\",\"item\"])[\"lag_28\"].transform(lambda x : x.rolling(7).mean())\n",
    "#sales[\"rmean_28_7_2\"] = sales[[\"store\",\"lag_28_2\"]].groupby([\"store\"])[\"lag_28_2\"].transform(lambda x : x.rolling(7).mean())\n",
    "#sales[\"rmean_28_7_3\"] = sales[[\"item\",\"lag_28_3\"]].groupby([\"item\"])[\"lag_28_3\"].transform(lambda x : x.rolling(7).mean())"
   ]
  },
  {
   "cell_type": "code",
   "execution_count": 85,
   "metadata": {
    "scrolled": true
   },
   "outputs": [],
   "source": [
    "#mean_sales = sales.groupby([\"item\",\"store\",\"date\"])[\"sales\"].transform('mean')\n",
    "#daily_sales = sales.groupby([\"item\",\"store\",\"date\"])[\"sales\"].transform('mean')\n",
    "#sales[\"sell_trend\"] = (daily_sales - mean_sales).astype(np.float16)"
   ]
  },
  {
   "cell_type": "code",
   "execution_count": 86,
   "metadata": {
    "scrolled": true
   },
   "outputs": [],
   "source": [
    "sales[\"rmax_7\"] = sales[[\"store\",\"item\",\"sales\"]].groupby([\"store\",\"item\"])[\"sales\"].transform(lambda x: x.rolling(window=7).max()).astype(np.float16)\n",
    "#sales[\"rmax_7_2\"] = sales[[\"store\",\"sales\"]].groupby([\"store\"])[\"sales\"].transform(lambda x: x.rolling(window=7).max()).astype(np.float16)\n",
    "#sales[\"rmax_7_3\"] = sales[[\"item\",\"sales\"]].groupby([\"item\"])[\"sales\"].transform(lambda x: x.rolling(window=7).max()).astype(np.float16)"
   ]
  },
  {
   "cell_type": "code",
   "execution_count": 87,
   "metadata": {},
   "outputs": [],
   "source": [
    "sales[\"rmin_7\"] = sales[[\"store\",\"item\",\"sales\"]].groupby([\"store\",\"item\"])[\"sales\"].transform(lambda x: x.rolling(window=7).min()).astype(np.float16)"
   ]
  },
  {
   "cell_type": "code",
   "execution_count": 88,
   "metadata": {
    "scrolled": false
   },
   "outputs": [
    {
     "data": {
      "text/html": [
       "<div>\n",
       "<style scoped>\n",
       "    .dataframe tbody tr th:only-of-type {\n",
       "        vertical-align: middle;\n",
       "    }\n",
       "\n",
       "    .dataframe tbody tr th {\n",
       "        vertical-align: top;\n",
       "    }\n",
       "\n",
       "    .dataframe thead th {\n",
       "        text-align: right;\n",
       "    }\n",
       "</style>\n",
       "<table border=\"1\" class=\"dataframe\">\n",
       "  <thead>\n",
       "    <tr style=\"text-align: right;\">\n",
       "      <th></th>\n",
       "      <th>date</th>\n",
       "      <th>store</th>\n",
       "      <th>item</th>\n",
       "      <th>sales</th>\n",
       "      <th>lag_28</th>\n",
       "      <th>lag_28_2</th>\n",
       "      <th>lag_28_3</th>\n",
       "      <th>rmean_7</th>\n",
       "      <th>rmean_7_2</th>\n",
       "      <th>rmean_7_3</th>\n",
       "      <th>rmean_28_7</th>\n",
       "      <th>rmax_7</th>\n",
       "      <th>rmin_7</th>\n",
       "    </tr>\n",
       "  </thead>\n",
       "  <tbody>\n",
       "    <tr>\n",
       "      <th>0</th>\n",
       "      <td>2013-01-01</td>\n",
       "      <td>1</td>\n",
       "      <td>1</td>\n",
       "      <td>13</td>\n",
       "      <td>NaN</td>\n",
       "      <td>NaN</td>\n",
       "      <td>NaN</td>\n",
       "      <td>NaN</td>\n",
       "      <td>NaN</td>\n",
       "      <td>NaN</td>\n",
       "      <td>NaN</td>\n",
       "      <td>NaN</td>\n",
       "      <td>NaN</td>\n",
       "    </tr>\n",
       "    <tr>\n",
       "      <th>1</th>\n",
       "      <td>2013-01-02</td>\n",
       "      <td>1</td>\n",
       "      <td>1</td>\n",
       "      <td>11</td>\n",
       "      <td>NaN</td>\n",
       "      <td>NaN</td>\n",
       "      <td>NaN</td>\n",
       "      <td>NaN</td>\n",
       "      <td>NaN</td>\n",
       "      <td>NaN</td>\n",
       "      <td>NaN</td>\n",
       "      <td>NaN</td>\n",
       "      <td>NaN</td>\n",
       "    </tr>\n",
       "    <tr>\n",
       "      <th>2</th>\n",
       "      <td>2013-01-03</td>\n",
       "      <td>1</td>\n",
       "      <td>1</td>\n",
       "      <td>14</td>\n",
       "      <td>NaN</td>\n",
       "      <td>NaN</td>\n",
       "      <td>NaN</td>\n",
       "      <td>NaN</td>\n",
       "      <td>NaN</td>\n",
       "      <td>NaN</td>\n",
       "      <td>NaN</td>\n",
       "      <td>NaN</td>\n",
       "      <td>NaN</td>\n",
       "    </tr>\n",
       "    <tr>\n",
       "      <th>3</th>\n",
       "      <td>2013-01-04</td>\n",
       "      <td>1</td>\n",
       "      <td>1</td>\n",
       "      <td>13</td>\n",
       "      <td>NaN</td>\n",
       "      <td>NaN</td>\n",
       "      <td>NaN</td>\n",
       "      <td>NaN</td>\n",
       "      <td>NaN</td>\n",
       "      <td>NaN</td>\n",
       "      <td>NaN</td>\n",
       "      <td>NaN</td>\n",
       "      <td>NaN</td>\n",
       "    </tr>\n",
       "    <tr>\n",
       "      <th>4</th>\n",
       "      <td>2013-01-05</td>\n",
       "      <td>1</td>\n",
       "      <td>1</td>\n",
       "      <td>10</td>\n",
       "      <td>NaN</td>\n",
       "      <td>NaN</td>\n",
       "      <td>NaN</td>\n",
       "      <td>NaN</td>\n",
       "      <td>NaN</td>\n",
       "      <td>NaN</td>\n",
       "      <td>NaN</td>\n",
       "      <td>NaN</td>\n",
       "      <td>NaN</td>\n",
       "    </tr>\n",
       "  </tbody>\n",
       "</table>\n",
       "</div>"
      ],
      "text/plain": [
       "        date  store  item  sales  lag_28  lag_28_2  lag_28_3  rmean_7  \\\n",
       "0 2013-01-01      1     1     13     NaN       NaN       NaN      NaN   \n",
       "1 2013-01-02      1     1     11     NaN       NaN       NaN      NaN   \n",
       "2 2013-01-03      1     1     14     NaN       NaN       NaN      NaN   \n",
       "3 2013-01-04      1     1     13     NaN       NaN       NaN      NaN   \n",
       "4 2013-01-05      1     1     10     NaN       NaN       NaN      NaN   \n",
       "\n",
       "   rmean_7_2  rmean_7_3  rmean_28_7  rmax_7  rmin_7  \n",
       "0        NaN        NaN         NaN     NaN     NaN  \n",
       "1        NaN        NaN         NaN     NaN     NaN  \n",
       "2        NaN        NaN         NaN     NaN     NaN  \n",
       "3        NaN        NaN         NaN     NaN     NaN  \n",
       "4        NaN        NaN         NaN     NaN     NaN  "
      ]
     },
     "execution_count": 88,
     "metadata": {},
     "output_type": "execute_result"
    }
   ],
   "source": [
    "sales.head()"
   ]
  },
  {
   "cell_type": "code",
   "execution_count": 89,
   "metadata": {},
   "outputs": [
    {
     "data": {
      "text/plain": [
       "date          datetime64[ns]\n",
       "store                  int64\n",
       "item                   int64\n",
       "sales                  int64\n",
       "lag_28               float64\n",
       "lag_28_2             float64\n",
       "lag_28_3             float64\n",
       "rmean_7              float64\n",
       "rmean_7_2            float64\n",
       "rmean_7_3            float64\n",
       "rmean_28_7           float64\n",
       "rmax_7               float16\n",
       "rmin_7               float16\n",
       "dtype: object"
      ]
     },
     "execution_count": 89,
     "metadata": {},
     "output_type": "execute_result"
    }
   ],
   "source": [
    "sales['date'] = pd.to_datetime(sales['date'])\n",
    "sales.dtypes"
   ]
  },
  {
   "cell_type": "code",
   "execution_count": 90,
   "metadata": {},
   "outputs": [
    {
     "name": "stdout",
     "output_type": "stream",
     "text": [
      "Done\n"
     ]
    }
   ],
   "source": [
    "sales['quarter'] = sales['date'].dt.quarter.astype(\"int16\")\n",
    "sales['month'] = sales['date'].dt.month.astype(\"int16\")\n",
    "sales['day'] = sales['date'].dt.day.astype(\"int16\")\n",
    "sales['week'] = sales['date'].dt.weekofyear.astype(\"int16\")\n",
    "sales['weekday'] = sales['date'].dt.weekday.astype(\"int16\")\n",
    "print(\"Done\")"
   ]
  },
  {
   "cell_type": "code",
   "execution_count": 91,
   "metadata": {
    "scrolled": false
   },
   "outputs": [
    {
     "data": {
      "text/plain": [
       "date              0\n",
       "store             0\n",
       "item              0\n",
       "sales             0\n",
       "lag_28        14000\n",
       "lag_28_2        280\n",
       "lag_28_3       1400\n",
       "rmean_7        3000\n",
       "rmean_7_2        60\n",
       "rmean_7_3       300\n",
       "rmean_28_7    17000\n",
       "rmax_7         3000\n",
       "rmin_7         3000\n",
       "quarter           0\n",
       "month             0\n",
       "day               0\n",
       "week              0\n",
       "weekday           0\n",
       "dtype: int64"
      ]
     },
     "execution_count": 91,
     "metadata": {},
     "output_type": "execute_result"
    }
   ],
   "source": [
    "sales.isnull().sum()"
   ]
  },
  {
   "cell_type": "code",
   "execution_count": 92,
   "metadata": {},
   "outputs": [
    {
     "data": {
      "text/plain": [
       "(913000, 18)"
      ]
     },
     "execution_count": 92,
     "metadata": {},
     "output_type": "execute_result"
    }
   ],
   "source": [
    "sales.shape"
   ]
  },
  {
   "cell_type": "code",
   "execution_count": 93,
   "metadata": {},
   "outputs": [],
   "source": [
    "sales.dropna(inplace = True)"
   ]
  },
  {
   "cell_type": "code",
   "execution_count": 94,
   "metadata": {
    "scrolled": true
   },
   "outputs": [
    {
     "data": {
      "text/plain": [
       "date          0\n",
       "store         0\n",
       "item          0\n",
       "sales         0\n",
       "lag_28        0\n",
       "lag_28_2      0\n",
       "lag_28_3      0\n",
       "rmean_7       0\n",
       "rmean_7_2     0\n",
       "rmean_7_3     0\n",
       "rmean_28_7    0\n",
       "rmax_7        0\n",
       "rmin_7        0\n",
       "quarter       0\n",
       "month         0\n",
       "day           0\n",
       "week          0\n",
       "weekday       0\n",
       "dtype: int64"
      ]
     },
     "execution_count": 94,
     "metadata": {},
     "output_type": "execute_result"
    }
   ],
   "source": [
    "sales.isnull().sum()"
   ]
  },
  {
   "cell_type": "code",
   "execution_count": 95,
   "metadata": {},
   "outputs": [
    {
     "data": {
      "text/plain": [
       "(896000, 18)"
      ]
     },
     "execution_count": 95,
     "metadata": {},
     "output_type": "execute_result"
    }
   ],
   "source": [
    "sales.shape"
   ]
  },
  {
   "cell_type": "markdown",
   "metadata": {},
   "source": [
    "### <span style=\"color:DarkGray;\">  Train and test split  </span>\n",
    "\n",
    "#### Split sales data into the __train__ and __test__ datasets. "
   ]
  },
  {
   "cell_type": "code",
   "execution_count": 96,
   "metadata": {},
   "outputs": [],
   "source": [
    "split_date = \"2017-10-01\""
   ]
  },
  {
   "cell_type": "code",
   "execution_count": 97,
   "metadata": {},
   "outputs": [],
   "source": [
    "train = sales.loc[sales.date < split_date].copy()\n",
    "test = sales.loc[sales.date >= split_date].copy()"
   ]
  },
  {
   "cell_type": "code",
   "execution_count": 98,
   "metadata": {},
   "outputs": [
    {
     "name": "stdout",
     "output_type": "stream",
     "text": [
      "(850000, 18)\n",
      "(46000, 18)\n"
     ]
    }
   ],
   "source": [
    "print(train.shape)\n",
    "print(test.shape)"
   ]
  },
  {
   "cell_type": "code",
   "execution_count": 99,
   "metadata": {},
   "outputs": [
    {
     "data": {
      "text/html": [
       "<div>\n",
       "<style scoped>\n",
       "    .dataframe tbody tr th:only-of-type {\n",
       "        vertical-align: middle;\n",
       "    }\n",
       "\n",
       "    .dataframe tbody tr th {\n",
       "        vertical-align: top;\n",
       "    }\n",
       "\n",
       "    .dataframe thead th {\n",
       "        text-align: right;\n",
       "    }\n",
       "</style>\n",
       "<table border=\"1\" class=\"dataframe\">\n",
       "  <thead>\n",
       "    <tr style=\"text-align: right;\">\n",
       "      <th></th>\n",
       "      <th>date</th>\n",
       "      <th>store</th>\n",
       "      <th>item</th>\n",
       "      <th>sales</th>\n",
       "      <th>lag_28</th>\n",
       "      <th>lag_28_2</th>\n",
       "      <th>lag_28_3</th>\n",
       "      <th>rmean_7</th>\n",
       "      <th>rmean_7_2</th>\n",
       "      <th>rmean_7_3</th>\n",
       "      <th>rmean_28_7</th>\n",
       "      <th>rmax_7</th>\n",
       "      <th>rmin_7</th>\n",
       "      <th>quarter</th>\n",
       "      <th>month</th>\n",
       "      <th>day</th>\n",
       "      <th>week</th>\n",
       "      <th>weekday</th>\n",
       "    </tr>\n",
       "  </thead>\n",
       "  <tbody>\n",
       "    <tr>\n",
       "      <th>34</th>\n",
       "      <td>2013-02-04</td>\n",
       "      <td>1</td>\n",
       "      <td>1</td>\n",
       "      <td>14</td>\n",
       "      <td>10.0</td>\n",
       "      <td>10.0</td>\n",
       "      <td>10.0</td>\n",
       "      <td>12.714286</td>\n",
       "      <td>12.714286</td>\n",
       "      <td>12.714286</td>\n",
       "      <td>11.857143</td>\n",
       "      <td>21.0</td>\n",
       "      <td>6.0</td>\n",
       "      <td>1</td>\n",
       "      <td>2</td>\n",
       "      <td>4</td>\n",
       "      <td>6</td>\n",
       "      <td>0</td>\n",
       "    </tr>\n",
       "    <tr>\n",
       "      <th>35</th>\n",
       "      <td>2013-02-05</td>\n",
       "      <td>1</td>\n",
       "      <td>1</td>\n",
       "      <td>9</td>\n",
       "      <td>9.0</td>\n",
       "      <td>9.0</td>\n",
       "      <td>9.0</td>\n",
       "      <td>13.142857</td>\n",
       "      <td>13.142857</td>\n",
       "      <td>13.142857</td>\n",
       "      <td>11.285714</td>\n",
       "      <td>21.0</td>\n",
       "      <td>9.0</td>\n",
       "      <td>1</td>\n",
       "      <td>2</td>\n",
       "      <td>5</td>\n",
       "      <td>6</td>\n",
       "      <td>1</td>\n",
       "    </tr>\n",
       "    <tr>\n",
       "      <th>36</th>\n",
       "      <td>2013-02-06</td>\n",
       "      <td>1</td>\n",
       "      <td>1</td>\n",
       "      <td>10</td>\n",
       "      <td>12.0</td>\n",
       "      <td>12.0</td>\n",
       "      <td>12.0</td>\n",
       "      <td>13.285714</td>\n",
       "      <td>13.285714</td>\n",
       "      <td>13.285714</td>\n",
       "      <td>11.428571</td>\n",
       "      <td>21.0</td>\n",
       "      <td>9.0</td>\n",
       "      <td>1</td>\n",
       "      <td>2</td>\n",
       "      <td>6</td>\n",
       "      <td>6</td>\n",
       "      <td>2</td>\n",
       "    </tr>\n",
       "    <tr>\n",
       "      <th>37</th>\n",
       "      <td>2013-02-07</td>\n",
       "      <td>1</td>\n",
       "      <td>1</td>\n",
       "      <td>13</td>\n",
       "      <td>9.0</td>\n",
       "      <td>9.0</td>\n",
       "      <td>9.0</td>\n",
       "      <td>13.285714</td>\n",
       "      <td>13.285714</td>\n",
       "      <td>13.285714</td>\n",
       "      <td>10.714286</td>\n",
       "      <td>21.0</td>\n",
       "      <td>9.0</td>\n",
       "      <td>1</td>\n",
       "      <td>2</td>\n",
       "      <td>7</td>\n",
       "      <td>6</td>\n",
       "      <td>3</td>\n",
       "    </tr>\n",
       "    <tr>\n",
       "      <th>38</th>\n",
       "      <td>2013-02-08</td>\n",
       "      <td>1</td>\n",
       "      <td>1</td>\n",
       "      <td>11</td>\n",
       "      <td>9.0</td>\n",
       "      <td>9.0</td>\n",
       "      <td>9.0</td>\n",
       "      <td>13.285714</td>\n",
       "      <td>13.285714</td>\n",
       "      <td>13.285714</td>\n",
       "      <td>10.142857</td>\n",
       "      <td>21.0</td>\n",
       "      <td>9.0</td>\n",
       "      <td>1</td>\n",
       "      <td>2</td>\n",
       "      <td>8</td>\n",
       "      <td>6</td>\n",
       "      <td>4</td>\n",
       "    </tr>\n",
       "    <tr>\n",
       "      <th>...</th>\n",
       "      <td>...</td>\n",
       "      <td>...</td>\n",
       "      <td>...</td>\n",
       "      <td>...</td>\n",
       "      <td>...</td>\n",
       "      <td>...</td>\n",
       "      <td>...</td>\n",
       "      <td>...</td>\n",
       "      <td>...</td>\n",
       "      <td>...</td>\n",
       "      <td>...</td>\n",
       "      <td>...</td>\n",
       "      <td>...</td>\n",
       "      <td>...</td>\n",
       "      <td>...</td>\n",
       "      <td>...</td>\n",
       "      <td>...</td>\n",
       "      <td>...</td>\n",
       "    </tr>\n",
       "    <tr>\n",
       "      <th>912903</th>\n",
       "      <td>2017-09-26</td>\n",
       "      <td>10</td>\n",
       "      <td>50</td>\n",
       "      <td>79</td>\n",
       "      <td>79.0</td>\n",
       "      <td>79.0</td>\n",
       "      <td>79.0</td>\n",
       "      <td>85.142857</td>\n",
       "      <td>85.142857</td>\n",
       "      <td>85.142857</td>\n",
       "      <td>96.571429</td>\n",
       "      <td>99.0</td>\n",
       "      <td>63.0</td>\n",
       "      <td>3</td>\n",
       "      <td>9</td>\n",
       "      <td>26</td>\n",
       "      <td>39</td>\n",
       "      <td>1</td>\n",
       "    </tr>\n",
       "    <tr>\n",
       "      <th>912904</th>\n",
       "      <td>2017-09-27</td>\n",
       "      <td>10</td>\n",
       "      <td>50</td>\n",
       "      <td>80</td>\n",
       "      <td>79.0</td>\n",
       "      <td>79.0</td>\n",
       "      <td>79.0</td>\n",
       "      <td>86.285714</td>\n",
       "      <td>86.285714</td>\n",
       "      <td>86.285714</td>\n",
       "      <td>93.000000</td>\n",
       "      <td>99.0</td>\n",
       "      <td>63.0</td>\n",
       "      <td>3</td>\n",
       "      <td>9</td>\n",
       "      <td>27</td>\n",
       "      <td>39</td>\n",
       "      <td>2</td>\n",
       "    </tr>\n",
       "    <tr>\n",
       "      <th>912905</th>\n",
       "      <td>2017-09-28</td>\n",
       "      <td>10</td>\n",
       "      <td>50</td>\n",
       "      <td>82</td>\n",
       "      <td>89.0</td>\n",
       "      <td>89.0</td>\n",
       "      <td>89.0</td>\n",
       "      <td>85.285714</td>\n",
       "      <td>85.285714</td>\n",
       "      <td>85.285714</td>\n",
       "      <td>93.000000</td>\n",
       "      <td>99.0</td>\n",
       "      <td>63.0</td>\n",
       "      <td>3</td>\n",
       "      <td>9</td>\n",
       "      <td>28</td>\n",
       "      <td>39</td>\n",
       "      <td>3</td>\n",
       "    </tr>\n",
       "    <tr>\n",
       "      <th>912906</th>\n",
       "      <td>2017-09-29</td>\n",
       "      <td>10</td>\n",
       "      <td>50</td>\n",
       "      <td>90</td>\n",
       "      <td>96.0</td>\n",
       "      <td>96.0</td>\n",
       "      <td>96.0</td>\n",
       "      <td>84.285714</td>\n",
       "      <td>84.285714</td>\n",
       "      <td>84.285714</td>\n",
       "      <td>92.714286</td>\n",
       "      <td>99.0</td>\n",
       "      <td>63.0</td>\n",
       "      <td>3</td>\n",
       "      <td>9</td>\n",
       "      <td>29</td>\n",
       "      <td>39</td>\n",
       "      <td>4</td>\n",
       "    </tr>\n",
       "    <tr>\n",
       "      <th>912907</th>\n",
       "      <td>2017-09-30</td>\n",
       "      <td>10</td>\n",
       "      <td>50</td>\n",
       "      <td>103</td>\n",
       "      <td>92.0</td>\n",
       "      <td>92.0</td>\n",
       "      <td>92.0</td>\n",
       "      <td>85.142857</td>\n",
       "      <td>85.142857</td>\n",
       "      <td>85.142857</td>\n",
       "      <td>92.714286</td>\n",
       "      <td>103.0</td>\n",
       "      <td>63.0</td>\n",
       "      <td>3</td>\n",
       "      <td>9</td>\n",
       "      <td>30</td>\n",
       "      <td>39</td>\n",
       "      <td>5</td>\n",
       "    </tr>\n",
       "  </tbody>\n",
       "</table>\n",
       "<p>850000 rows × 18 columns</p>\n",
       "</div>"
      ],
      "text/plain": [
       "             date  store  item  sales  lag_28  lag_28_2  lag_28_3    rmean_7  \\\n",
       "34     2013-02-04      1     1     14    10.0      10.0      10.0  12.714286   \n",
       "35     2013-02-05      1     1      9     9.0       9.0       9.0  13.142857   \n",
       "36     2013-02-06      1     1     10    12.0      12.0      12.0  13.285714   \n",
       "37     2013-02-07      1     1     13     9.0       9.0       9.0  13.285714   \n",
       "38     2013-02-08      1     1     11     9.0       9.0       9.0  13.285714   \n",
       "...           ...    ...   ...    ...     ...       ...       ...        ...   \n",
       "912903 2017-09-26     10    50     79    79.0      79.0      79.0  85.142857   \n",
       "912904 2017-09-27     10    50     80    79.0      79.0      79.0  86.285714   \n",
       "912905 2017-09-28     10    50     82    89.0      89.0      89.0  85.285714   \n",
       "912906 2017-09-29     10    50     90    96.0      96.0      96.0  84.285714   \n",
       "912907 2017-09-30     10    50    103    92.0      92.0      92.0  85.142857   \n",
       "\n",
       "        rmean_7_2  rmean_7_3  rmean_28_7  rmax_7  rmin_7  quarter  month  day  \\\n",
       "34      12.714286  12.714286   11.857143    21.0     6.0        1      2    4   \n",
       "35      13.142857  13.142857   11.285714    21.0     9.0        1      2    5   \n",
       "36      13.285714  13.285714   11.428571    21.0     9.0        1      2    6   \n",
       "37      13.285714  13.285714   10.714286    21.0     9.0        1      2    7   \n",
       "38      13.285714  13.285714   10.142857    21.0     9.0        1      2    8   \n",
       "...           ...        ...         ...     ...     ...      ...    ...  ...   \n",
       "912903  85.142857  85.142857   96.571429    99.0    63.0        3      9   26   \n",
       "912904  86.285714  86.285714   93.000000    99.0    63.0        3      9   27   \n",
       "912905  85.285714  85.285714   93.000000    99.0    63.0        3      9   28   \n",
       "912906  84.285714  84.285714   92.714286    99.0    63.0        3      9   29   \n",
       "912907  85.142857  85.142857   92.714286   103.0    63.0        3      9   30   \n",
       "\n",
       "        week  weekday  \n",
       "34         6        0  \n",
       "35         6        1  \n",
       "36         6        2  \n",
       "37         6        3  \n",
       "38         6        4  \n",
       "...      ...      ...  \n",
       "912903    39        1  \n",
       "912904    39        2  \n",
       "912905    39        3  \n",
       "912906    39        4  \n",
       "912907    39        5  \n",
       "\n",
       "[850000 rows x 18 columns]"
      ]
     },
     "execution_count": 99,
     "metadata": {},
     "output_type": "execute_result"
    }
   ],
   "source": [
    "train"
   ]
  },
  {
   "cell_type": "code",
   "execution_count": 100,
   "metadata": {},
   "outputs": [
    {
     "data": {
      "text/html": [
       "<div>\n",
       "<style scoped>\n",
       "    .dataframe tbody tr th:only-of-type {\n",
       "        vertical-align: middle;\n",
       "    }\n",
       "\n",
       "    .dataframe tbody tr th {\n",
       "        vertical-align: top;\n",
       "    }\n",
       "\n",
       "    .dataframe thead th {\n",
       "        text-align: right;\n",
       "    }\n",
       "</style>\n",
       "<table border=\"1\" class=\"dataframe\">\n",
       "  <thead>\n",
       "    <tr style=\"text-align: right;\">\n",
       "      <th></th>\n",
       "      <th>date</th>\n",
       "      <th>store</th>\n",
       "      <th>item</th>\n",
       "      <th>sales</th>\n",
       "      <th>lag_28</th>\n",
       "      <th>lag_28_2</th>\n",
       "      <th>lag_28_3</th>\n",
       "      <th>rmean_7</th>\n",
       "      <th>rmean_7_2</th>\n",
       "      <th>rmean_7_3</th>\n",
       "      <th>rmean_28_7</th>\n",
       "      <th>rmax_7</th>\n",
       "      <th>rmin_7</th>\n",
       "      <th>quarter</th>\n",
       "      <th>month</th>\n",
       "      <th>day</th>\n",
       "      <th>week</th>\n",
       "      <th>weekday</th>\n",
       "    </tr>\n",
       "  </thead>\n",
       "  <tbody>\n",
       "    <tr>\n",
       "      <th>1734</th>\n",
       "      <td>2017-10-01</td>\n",
       "      <td>1</td>\n",
       "      <td>1</td>\n",
       "      <td>21</td>\n",
       "      <td>23.0</td>\n",
       "      <td>23.0</td>\n",
       "      <td>23.0</td>\n",
       "      <td>23.000000</td>\n",
       "      <td>23.000000</td>\n",
       "      <td>23.000000</td>\n",
       "      <td>24.428571</td>\n",
       "      <td>30.0</td>\n",
       "      <td>14.0</td>\n",
       "      <td>4</td>\n",
       "      <td>10</td>\n",
       "      <td>1</td>\n",
       "      <td>39</td>\n",
       "      <td>6</td>\n",
       "    </tr>\n",
       "    <tr>\n",
       "      <th>1735</th>\n",
       "      <td>2017-10-02</td>\n",
       "      <td>1</td>\n",
       "      <td>1</td>\n",
       "      <td>12</td>\n",
       "      <td>12.0</td>\n",
       "      <td>12.0</td>\n",
       "      <td>12.0</td>\n",
       "      <td>22.714286</td>\n",
       "      <td>22.714286</td>\n",
       "      <td>22.714286</td>\n",
       "      <td>24.000000</td>\n",
       "      <td>30.0</td>\n",
       "      <td>12.0</td>\n",
       "      <td>4</td>\n",
       "      <td>10</td>\n",
       "      <td>2</td>\n",
       "      <td>40</td>\n",
       "      <td>0</td>\n",
       "    </tr>\n",
       "    <tr>\n",
       "      <th>1736</th>\n",
       "      <td>2017-10-03</td>\n",
       "      <td>1</td>\n",
       "      <td>1</td>\n",
       "      <td>18</td>\n",
       "      <td>26.0</td>\n",
       "      <td>26.0</td>\n",
       "      <td>26.0</td>\n",
       "      <td>22.714286</td>\n",
       "      <td>22.714286</td>\n",
       "      <td>22.714286</td>\n",
       "      <td>24.714286</td>\n",
       "      <td>30.0</td>\n",
       "      <td>12.0</td>\n",
       "      <td>4</td>\n",
       "      <td>10</td>\n",
       "      <td>3</td>\n",
       "      <td>40</td>\n",
       "      <td>1</td>\n",
       "    </tr>\n",
       "    <tr>\n",
       "      <th>1737</th>\n",
       "      <td>2017-10-04</td>\n",
       "      <td>1</td>\n",
       "      <td>1</td>\n",
       "      <td>15</td>\n",
       "      <td>24.0</td>\n",
       "      <td>24.0</td>\n",
       "      <td>24.0</td>\n",
       "      <td>21.000000</td>\n",
       "      <td>21.000000</td>\n",
       "      <td>21.000000</td>\n",
       "      <td>25.000000</td>\n",
       "      <td>30.0</td>\n",
       "      <td>12.0</td>\n",
       "      <td>4</td>\n",
       "      <td>10</td>\n",
       "      <td>4</td>\n",
       "      <td>40</td>\n",
       "      <td>2</td>\n",
       "    </tr>\n",
       "    <tr>\n",
       "      <th>1738</th>\n",
       "      <td>2017-10-05</td>\n",
       "      <td>1</td>\n",
       "      <td>1</td>\n",
       "      <td>20</td>\n",
       "      <td>29.0</td>\n",
       "      <td>29.0</td>\n",
       "      <td>29.0</td>\n",
       "      <td>20.571429</td>\n",
       "      <td>20.571429</td>\n",
       "      <td>20.571429</td>\n",
       "      <td>25.428571</td>\n",
       "      <td>30.0</td>\n",
       "      <td>12.0</td>\n",
       "      <td>4</td>\n",
       "      <td>10</td>\n",
       "      <td>5</td>\n",
       "      <td>40</td>\n",
       "      <td>3</td>\n",
       "    </tr>\n",
       "    <tr>\n",
       "      <th>...</th>\n",
       "      <td>...</td>\n",
       "      <td>...</td>\n",
       "      <td>...</td>\n",
       "      <td>...</td>\n",
       "      <td>...</td>\n",
       "      <td>...</td>\n",
       "      <td>...</td>\n",
       "      <td>...</td>\n",
       "      <td>...</td>\n",
       "      <td>...</td>\n",
       "      <td>...</td>\n",
       "      <td>...</td>\n",
       "      <td>...</td>\n",
       "      <td>...</td>\n",
       "      <td>...</td>\n",
       "      <td>...</td>\n",
       "      <td>...</td>\n",
       "      <td>...</td>\n",
       "    </tr>\n",
       "    <tr>\n",
       "      <th>912995</th>\n",
       "      <td>2017-12-27</td>\n",
       "      <td>10</td>\n",
       "      <td>50</td>\n",
       "      <td>63</td>\n",
       "      <td>76.0</td>\n",
       "      <td>76.0</td>\n",
       "      <td>76.0</td>\n",
       "      <td>62.714286</td>\n",
       "      <td>62.714286</td>\n",
       "      <td>62.714286</td>\n",
       "      <td>82.571429</td>\n",
       "      <td>76.0</td>\n",
       "      <td>41.0</td>\n",
       "      <td>4</td>\n",
       "      <td>12</td>\n",
       "      <td>27</td>\n",
       "      <td>52</td>\n",
       "      <td>2</td>\n",
       "    </tr>\n",
       "    <tr>\n",
       "      <th>912996</th>\n",
       "      <td>2017-12-28</td>\n",
       "      <td>10</td>\n",
       "      <td>50</td>\n",
       "      <td>59</td>\n",
       "      <td>73.0</td>\n",
       "      <td>73.0</td>\n",
       "      <td>73.0</td>\n",
       "      <td>62.142857</td>\n",
       "      <td>62.142857</td>\n",
       "      <td>62.142857</td>\n",
       "      <td>80.571429</td>\n",
       "      <td>76.0</td>\n",
       "      <td>41.0</td>\n",
       "      <td>4</td>\n",
       "      <td>12</td>\n",
       "      <td>28</td>\n",
       "      <td>52</td>\n",
       "      <td>3</td>\n",
       "    </tr>\n",
       "    <tr>\n",
       "      <th>912997</th>\n",
       "      <td>2017-12-29</td>\n",
       "      <td>10</td>\n",
       "      <td>50</td>\n",
       "      <td>74</td>\n",
       "      <td>66.0</td>\n",
       "      <td>66.0</td>\n",
       "      <td>66.0</td>\n",
       "      <td>62.000000</td>\n",
       "      <td>62.000000</td>\n",
       "      <td>62.000000</td>\n",
       "      <td>78.428571</td>\n",
       "      <td>76.0</td>\n",
       "      <td>41.0</td>\n",
       "      <td>4</td>\n",
       "      <td>12</td>\n",
       "      <td>29</td>\n",
       "      <td>52</td>\n",
       "      <td>4</td>\n",
       "    </tr>\n",
       "    <tr>\n",
       "      <th>912998</th>\n",
       "      <td>2017-12-30</td>\n",
       "      <td>10</td>\n",
       "      <td>50</td>\n",
       "      <td>62</td>\n",
       "      <td>49.0</td>\n",
       "      <td>49.0</td>\n",
       "      <td>49.0</td>\n",
       "      <td>60.857143</td>\n",
       "      <td>60.857143</td>\n",
       "      <td>60.857143</td>\n",
       "      <td>74.285714</td>\n",
       "      <td>76.0</td>\n",
       "      <td>41.0</td>\n",
       "      <td>4</td>\n",
       "      <td>12</td>\n",
       "      <td>30</td>\n",
       "      <td>52</td>\n",
       "      <td>5</td>\n",
       "    </tr>\n",
       "    <tr>\n",
       "      <th>912999</th>\n",
       "      <td>2017-12-31</td>\n",
       "      <td>10</td>\n",
       "      <td>50</td>\n",
       "      <td>82</td>\n",
       "      <td>75.0</td>\n",
       "      <td>75.0</td>\n",
       "      <td>75.0</td>\n",
       "      <td>61.714286</td>\n",
       "      <td>61.714286</td>\n",
       "      <td>61.714286</td>\n",
       "      <td>68.857143</td>\n",
       "      <td>82.0</td>\n",
       "      <td>41.0</td>\n",
       "      <td>4</td>\n",
       "      <td>12</td>\n",
       "      <td>31</td>\n",
       "      <td>52</td>\n",
       "      <td>6</td>\n",
       "    </tr>\n",
       "  </tbody>\n",
       "</table>\n",
       "<p>46000 rows × 18 columns</p>\n",
       "</div>"
      ],
      "text/plain": [
       "             date  store  item  sales  lag_28  lag_28_2  lag_28_3    rmean_7  \\\n",
       "1734   2017-10-01      1     1     21    23.0      23.0      23.0  23.000000   \n",
       "1735   2017-10-02      1     1     12    12.0      12.0      12.0  22.714286   \n",
       "1736   2017-10-03      1     1     18    26.0      26.0      26.0  22.714286   \n",
       "1737   2017-10-04      1     1     15    24.0      24.0      24.0  21.000000   \n",
       "1738   2017-10-05      1     1     20    29.0      29.0      29.0  20.571429   \n",
       "...           ...    ...   ...    ...     ...       ...       ...        ...   \n",
       "912995 2017-12-27     10    50     63    76.0      76.0      76.0  62.714286   \n",
       "912996 2017-12-28     10    50     59    73.0      73.0      73.0  62.142857   \n",
       "912997 2017-12-29     10    50     74    66.0      66.0      66.0  62.000000   \n",
       "912998 2017-12-30     10    50     62    49.0      49.0      49.0  60.857143   \n",
       "912999 2017-12-31     10    50     82    75.0      75.0      75.0  61.714286   \n",
       "\n",
       "        rmean_7_2  rmean_7_3  rmean_28_7  rmax_7  rmin_7  quarter  month  day  \\\n",
       "1734    23.000000  23.000000   24.428571    30.0    14.0        4     10    1   \n",
       "1735    22.714286  22.714286   24.000000    30.0    12.0        4     10    2   \n",
       "1736    22.714286  22.714286   24.714286    30.0    12.0        4     10    3   \n",
       "1737    21.000000  21.000000   25.000000    30.0    12.0        4     10    4   \n",
       "1738    20.571429  20.571429   25.428571    30.0    12.0        4     10    5   \n",
       "...           ...        ...         ...     ...     ...      ...    ...  ...   \n",
       "912995  62.714286  62.714286   82.571429    76.0    41.0        4     12   27   \n",
       "912996  62.142857  62.142857   80.571429    76.0    41.0        4     12   28   \n",
       "912997  62.000000  62.000000   78.428571    76.0    41.0        4     12   29   \n",
       "912998  60.857143  60.857143   74.285714    76.0    41.0        4     12   30   \n",
       "912999  61.714286  61.714286   68.857143    82.0    41.0        4     12   31   \n",
       "\n",
       "        week  weekday  \n",
       "1734      39        6  \n",
       "1735      40        0  \n",
       "1736      40        1  \n",
       "1737      40        2  \n",
       "1738      40        3  \n",
       "...      ...      ...  \n",
       "912995    52        2  \n",
       "912996    52        3  \n",
       "912997    52        4  \n",
       "912998    52        5  \n",
       "912999    52        6  \n",
       "\n",
       "[46000 rows x 18 columns]"
      ]
     },
     "execution_count": 100,
     "metadata": {},
     "output_type": "execute_result"
    }
   ],
   "source": [
    "test"
   ]
  },
  {
   "cell_type": "markdown",
   "metadata": {},
   "source": [
    "#### Create input (`x`) and output (`y`) variables\n",
    "Note: use __sales__ as the output column."
   ]
  },
  {
   "cell_type": "code",
   "execution_count": 101,
   "metadata": {},
   "outputs": [],
   "source": [
    "x_train = train.drop(columns=[\"sales\",\"date\"])\n",
    "y_train = train[\"sales\"]\n",
    "x_test = test.drop(columns=[\"sales\",\"date\"])\n",
    "y_test = test[\"sales\"]"
   ]
  },
  {
   "cell_type": "code",
   "execution_count": 102,
   "metadata": {},
   "outputs": [
    {
     "name": "stdout",
     "output_type": "stream",
     "text": [
      "(850000, 16) (850000,)\n",
      "(46000, 16) (46000,)\n"
     ]
    }
   ],
   "source": [
    "print(x_train.shape, y_train.shape)\n",
    "print(x_test.shape, y_test.shape)"
   ]
  },
  {
   "cell_type": "code",
   "execution_count": 103,
   "metadata": {},
   "outputs": [
    {
     "data": {
      "text/html": [
       "<div>\n",
       "<style scoped>\n",
       "    .dataframe tbody tr th:only-of-type {\n",
       "        vertical-align: middle;\n",
       "    }\n",
       "\n",
       "    .dataframe tbody tr th {\n",
       "        vertical-align: top;\n",
       "    }\n",
       "\n",
       "    .dataframe thead th {\n",
       "        text-align: right;\n",
       "    }\n",
       "</style>\n",
       "<table border=\"1\" class=\"dataframe\">\n",
       "  <thead>\n",
       "    <tr style=\"text-align: right;\">\n",
       "      <th></th>\n",
       "      <th>store</th>\n",
       "      <th>item</th>\n",
       "      <th>lag_28</th>\n",
       "      <th>lag_28_2</th>\n",
       "      <th>lag_28_3</th>\n",
       "      <th>rmean_7</th>\n",
       "      <th>rmean_7_2</th>\n",
       "      <th>rmean_7_3</th>\n",
       "      <th>rmean_28_7</th>\n",
       "      <th>rmax_7</th>\n",
       "      <th>rmin_7</th>\n",
       "      <th>quarter</th>\n",
       "      <th>month</th>\n",
       "      <th>day</th>\n",
       "      <th>week</th>\n",
       "      <th>weekday</th>\n",
       "    </tr>\n",
       "  </thead>\n",
       "  <tbody>\n",
       "    <tr>\n",
       "      <th>34</th>\n",
       "      <td>1</td>\n",
       "      <td>1</td>\n",
       "      <td>10.0</td>\n",
       "      <td>10.0</td>\n",
       "      <td>10.0</td>\n",
       "      <td>12.714286</td>\n",
       "      <td>12.714286</td>\n",
       "      <td>12.714286</td>\n",
       "      <td>11.857143</td>\n",
       "      <td>21.0</td>\n",
       "      <td>6.0</td>\n",
       "      <td>1</td>\n",
       "      <td>2</td>\n",
       "      <td>4</td>\n",
       "      <td>6</td>\n",
       "      <td>0</td>\n",
       "    </tr>\n",
       "    <tr>\n",
       "      <th>35</th>\n",
       "      <td>1</td>\n",
       "      <td>1</td>\n",
       "      <td>9.0</td>\n",
       "      <td>9.0</td>\n",
       "      <td>9.0</td>\n",
       "      <td>13.142857</td>\n",
       "      <td>13.142857</td>\n",
       "      <td>13.142857</td>\n",
       "      <td>11.285714</td>\n",
       "      <td>21.0</td>\n",
       "      <td>9.0</td>\n",
       "      <td>1</td>\n",
       "      <td>2</td>\n",
       "      <td>5</td>\n",
       "      <td>6</td>\n",
       "      <td>1</td>\n",
       "    </tr>\n",
       "    <tr>\n",
       "      <th>36</th>\n",
       "      <td>1</td>\n",
       "      <td>1</td>\n",
       "      <td>12.0</td>\n",
       "      <td>12.0</td>\n",
       "      <td>12.0</td>\n",
       "      <td>13.285714</td>\n",
       "      <td>13.285714</td>\n",
       "      <td>13.285714</td>\n",
       "      <td>11.428571</td>\n",
       "      <td>21.0</td>\n",
       "      <td>9.0</td>\n",
       "      <td>1</td>\n",
       "      <td>2</td>\n",
       "      <td>6</td>\n",
       "      <td>6</td>\n",
       "      <td>2</td>\n",
       "    </tr>\n",
       "    <tr>\n",
       "      <th>37</th>\n",
       "      <td>1</td>\n",
       "      <td>1</td>\n",
       "      <td>9.0</td>\n",
       "      <td>9.0</td>\n",
       "      <td>9.0</td>\n",
       "      <td>13.285714</td>\n",
       "      <td>13.285714</td>\n",
       "      <td>13.285714</td>\n",
       "      <td>10.714286</td>\n",
       "      <td>21.0</td>\n",
       "      <td>9.0</td>\n",
       "      <td>1</td>\n",
       "      <td>2</td>\n",
       "      <td>7</td>\n",
       "      <td>6</td>\n",
       "      <td>3</td>\n",
       "    </tr>\n",
       "    <tr>\n",
       "      <th>38</th>\n",
       "      <td>1</td>\n",
       "      <td>1</td>\n",
       "      <td>9.0</td>\n",
       "      <td>9.0</td>\n",
       "      <td>9.0</td>\n",
       "      <td>13.285714</td>\n",
       "      <td>13.285714</td>\n",
       "      <td>13.285714</td>\n",
       "      <td>10.142857</td>\n",
       "      <td>21.0</td>\n",
       "      <td>9.0</td>\n",
       "      <td>1</td>\n",
       "      <td>2</td>\n",
       "      <td>8</td>\n",
       "      <td>6</td>\n",
       "      <td>4</td>\n",
       "    </tr>\n",
       "    <tr>\n",
       "      <th>...</th>\n",
       "      <td>...</td>\n",
       "      <td>...</td>\n",
       "      <td>...</td>\n",
       "      <td>...</td>\n",
       "      <td>...</td>\n",
       "      <td>...</td>\n",
       "      <td>...</td>\n",
       "      <td>...</td>\n",
       "      <td>...</td>\n",
       "      <td>...</td>\n",
       "      <td>...</td>\n",
       "      <td>...</td>\n",
       "      <td>...</td>\n",
       "      <td>...</td>\n",
       "      <td>...</td>\n",
       "      <td>...</td>\n",
       "    </tr>\n",
       "    <tr>\n",
       "      <th>912903</th>\n",
       "      <td>10</td>\n",
       "      <td>50</td>\n",
       "      <td>79.0</td>\n",
       "      <td>79.0</td>\n",
       "      <td>79.0</td>\n",
       "      <td>85.142857</td>\n",
       "      <td>85.142857</td>\n",
       "      <td>85.142857</td>\n",
       "      <td>96.571429</td>\n",
       "      <td>99.0</td>\n",
       "      <td>63.0</td>\n",
       "      <td>3</td>\n",
       "      <td>9</td>\n",
       "      <td>26</td>\n",
       "      <td>39</td>\n",
       "      <td>1</td>\n",
       "    </tr>\n",
       "    <tr>\n",
       "      <th>912904</th>\n",
       "      <td>10</td>\n",
       "      <td>50</td>\n",
       "      <td>79.0</td>\n",
       "      <td>79.0</td>\n",
       "      <td>79.0</td>\n",
       "      <td>86.285714</td>\n",
       "      <td>86.285714</td>\n",
       "      <td>86.285714</td>\n",
       "      <td>93.000000</td>\n",
       "      <td>99.0</td>\n",
       "      <td>63.0</td>\n",
       "      <td>3</td>\n",
       "      <td>9</td>\n",
       "      <td>27</td>\n",
       "      <td>39</td>\n",
       "      <td>2</td>\n",
       "    </tr>\n",
       "    <tr>\n",
       "      <th>912905</th>\n",
       "      <td>10</td>\n",
       "      <td>50</td>\n",
       "      <td>89.0</td>\n",
       "      <td>89.0</td>\n",
       "      <td>89.0</td>\n",
       "      <td>85.285714</td>\n",
       "      <td>85.285714</td>\n",
       "      <td>85.285714</td>\n",
       "      <td>93.000000</td>\n",
       "      <td>99.0</td>\n",
       "      <td>63.0</td>\n",
       "      <td>3</td>\n",
       "      <td>9</td>\n",
       "      <td>28</td>\n",
       "      <td>39</td>\n",
       "      <td>3</td>\n",
       "    </tr>\n",
       "    <tr>\n",
       "      <th>912906</th>\n",
       "      <td>10</td>\n",
       "      <td>50</td>\n",
       "      <td>96.0</td>\n",
       "      <td>96.0</td>\n",
       "      <td>96.0</td>\n",
       "      <td>84.285714</td>\n",
       "      <td>84.285714</td>\n",
       "      <td>84.285714</td>\n",
       "      <td>92.714286</td>\n",
       "      <td>99.0</td>\n",
       "      <td>63.0</td>\n",
       "      <td>3</td>\n",
       "      <td>9</td>\n",
       "      <td>29</td>\n",
       "      <td>39</td>\n",
       "      <td>4</td>\n",
       "    </tr>\n",
       "    <tr>\n",
       "      <th>912907</th>\n",
       "      <td>10</td>\n",
       "      <td>50</td>\n",
       "      <td>92.0</td>\n",
       "      <td>92.0</td>\n",
       "      <td>92.0</td>\n",
       "      <td>85.142857</td>\n",
       "      <td>85.142857</td>\n",
       "      <td>85.142857</td>\n",
       "      <td>92.714286</td>\n",
       "      <td>103.0</td>\n",
       "      <td>63.0</td>\n",
       "      <td>3</td>\n",
       "      <td>9</td>\n",
       "      <td>30</td>\n",
       "      <td>39</td>\n",
       "      <td>5</td>\n",
       "    </tr>\n",
       "  </tbody>\n",
       "</table>\n",
       "<p>850000 rows × 16 columns</p>\n",
       "</div>"
      ],
      "text/plain": [
       "        store  item  lag_28  lag_28_2  lag_28_3    rmean_7  rmean_7_2  \\\n",
       "34          1     1    10.0      10.0      10.0  12.714286  12.714286   \n",
       "35          1     1     9.0       9.0       9.0  13.142857  13.142857   \n",
       "36          1     1    12.0      12.0      12.0  13.285714  13.285714   \n",
       "37          1     1     9.0       9.0       9.0  13.285714  13.285714   \n",
       "38          1     1     9.0       9.0       9.0  13.285714  13.285714   \n",
       "...       ...   ...     ...       ...       ...        ...        ...   \n",
       "912903     10    50    79.0      79.0      79.0  85.142857  85.142857   \n",
       "912904     10    50    79.0      79.0      79.0  86.285714  86.285714   \n",
       "912905     10    50    89.0      89.0      89.0  85.285714  85.285714   \n",
       "912906     10    50    96.0      96.0      96.0  84.285714  84.285714   \n",
       "912907     10    50    92.0      92.0      92.0  85.142857  85.142857   \n",
       "\n",
       "        rmean_7_3  rmean_28_7  rmax_7  rmin_7  quarter  month  day  week  \\\n",
       "34      12.714286   11.857143    21.0     6.0        1      2    4     6   \n",
       "35      13.142857   11.285714    21.0     9.0        1      2    5     6   \n",
       "36      13.285714   11.428571    21.0     9.0        1      2    6     6   \n",
       "37      13.285714   10.714286    21.0     9.0        1      2    7     6   \n",
       "38      13.285714   10.142857    21.0     9.0        1      2    8     6   \n",
       "...           ...         ...     ...     ...      ...    ...  ...   ...   \n",
       "912903  85.142857   96.571429    99.0    63.0        3      9   26    39   \n",
       "912904  86.285714   93.000000    99.0    63.0        3      9   27    39   \n",
       "912905  85.285714   93.000000    99.0    63.0        3      9   28    39   \n",
       "912906  84.285714   92.714286    99.0    63.0        3      9   29    39   \n",
       "912907  85.142857   92.714286   103.0    63.0        3      9   30    39   \n",
       "\n",
       "        weekday  \n",
       "34            0  \n",
       "35            1  \n",
       "36            2  \n",
       "37            3  \n",
       "38            4  \n",
       "...         ...  \n",
       "912903        1  \n",
       "912904        2  \n",
       "912905        3  \n",
       "912906        4  \n",
       "912907        5  \n",
       "\n",
       "[850000 rows x 16 columns]"
      ]
     },
     "execution_count": 103,
     "metadata": {},
     "output_type": "execute_result"
    }
   ],
   "source": [
    "x_train"
   ]
  },
  {
   "cell_type": "code",
   "execution_count": 104,
   "metadata": {},
   "outputs": [
    {
     "data": {
      "text/html": [
       "<div>\n",
       "<style scoped>\n",
       "    .dataframe tbody tr th:only-of-type {\n",
       "        vertical-align: middle;\n",
       "    }\n",
       "\n",
       "    .dataframe tbody tr th {\n",
       "        vertical-align: top;\n",
       "    }\n",
       "\n",
       "    .dataframe thead th {\n",
       "        text-align: right;\n",
       "    }\n",
       "</style>\n",
       "<table border=\"1\" class=\"dataframe\">\n",
       "  <thead>\n",
       "    <tr style=\"text-align: right;\">\n",
       "      <th></th>\n",
       "      <th>store</th>\n",
       "      <th>item</th>\n",
       "      <th>lag_28</th>\n",
       "      <th>lag_28_2</th>\n",
       "      <th>lag_28_3</th>\n",
       "      <th>rmean_7</th>\n",
       "      <th>rmean_7_2</th>\n",
       "      <th>rmean_7_3</th>\n",
       "      <th>rmean_28_7</th>\n",
       "      <th>rmax_7</th>\n",
       "      <th>rmin_7</th>\n",
       "      <th>quarter</th>\n",
       "      <th>month</th>\n",
       "      <th>day</th>\n",
       "      <th>week</th>\n",
       "      <th>weekday</th>\n",
       "    </tr>\n",
       "  </thead>\n",
       "  <tbody>\n",
       "    <tr>\n",
       "      <th>1734</th>\n",
       "      <td>1</td>\n",
       "      <td>1</td>\n",
       "      <td>23.0</td>\n",
       "      <td>23.0</td>\n",
       "      <td>23.0</td>\n",
       "      <td>23.000000</td>\n",
       "      <td>23.000000</td>\n",
       "      <td>23.000000</td>\n",
       "      <td>24.428571</td>\n",
       "      <td>30.0</td>\n",
       "      <td>14.0</td>\n",
       "      <td>4</td>\n",
       "      <td>10</td>\n",
       "      <td>1</td>\n",
       "      <td>39</td>\n",
       "      <td>6</td>\n",
       "    </tr>\n",
       "    <tr>\n",
       "      <th>1735</th>\n",
       "      <td>1</td>\n",
       "      <td>1</td>\n",
       "      <td>12.0</td>\n",
       "      <td>12.0</td>\n",
       "      <td>12.0</td>\n",
       "      <td>22.714286</td>\n",
       "      <td>22.714286</td>\n",
       "      <td>22.714286</td>\n",
       "      <td>24.000000</td>\n",
       "      <td>30.0</td>\n",
       "      <td>12.0</td>\n",
       "      <td>4</td>\n",
       "      <td>10</td>\n",
       "      <td>2</td>\n",
       "      <td>40</td>\n",
       "      <td>0</td>\n",
       "    </tr>\n",
       "    <tr>\n",
       "      <th>1736</th>\n",
       "      <td>1</td>\n",
       "      <td>1</td>\n",
       "      <td>26.0</td>\n",
       "      <td>26.0</td>\n",
       "      <td>26.0</td>\n",
       "      <td>22.714286</td>\n",
       "      <td>22.714286</td>\n",
       "      <td>22.714286</td>\n",
       "      <td>24.714286</td>\n",
       "      <td>30.0</td>\n",
       "      <td>12.0</td>\n",
       "      <td>4</td>\n",
       "      <td>10</td>\n",
       "      <td>3</td>\n",
       "      <td>40</td>\n",
       "      <td>1</td>\n",
       "    </tr>\n",
       "    <tr>\n",
       "      <th>1737</th>\n",
       "      <td>1</td>\n",
       "      <td>1</td>\n",
       "      <td>24.0</td>\n",
       "      <td>24.0</td>\n",
       "      <td>24.0</td>\n",
       "      <td>21.000000</td>\n",
       "      <td>21.000000</td>\n",
       "      <td>21.000000</td>\n",
       "      <td>25.000000</td>\n",
       "      <td>30.0</td>\n",
       "      <td>12.0</td>\n",
       "      <td>4</td>\n",
       "      <td>10</td>\n",
       "      <td>4</td>\n",
       "      <td>40</td>\n",
       "      <td>2</td>\n",
       "    </tr>\n",
       "    <tr>\n",
       "      <th>1738</th>\n",
       "      <td>1</td>\n",
       "      <td>1</td>\n",
       "      <td>29.0</td>\n",
       "      <td>29.0</td>\n",
       "      <td>29.0</td>\n",
       "      <td>20.571429</td>\n",
       "      <td>20.571429</td>\n",
       "      <td>20.571429</td>\n",
       "      <td>25.428571</td>\n",
       "      <td>30.0</td>\n",
       "      <td>12.0</td>\n",
       "      <td>4</td>\n",
       "      <td>10</td>\n",
       "      <td>5</td>\n",
       "      <td>40</td>\n",
       "      <td>3</td>\n",
       "    </tr>\n",
       "    <tr>\n",
       "      <th>...</th>\n",
       "      <td>...</td>\n",
       "      <td>...</td>\n",
       "      <td>...</td>\n",
       "      <td>...</td>\n",
       "      <td>...</td>\n",
       "      <td>...</td>\n",
       "      <td>...</td>\n",
       "      <td>...</td>\n",
       "      <td>...</td>\n",
       "      <td>...</td>\n",
       "      <td>...</td>\n",
       "      <td>...</td>\n",
       "      <td>...</td>\n",
       "      <td>...</td>\n",
       "      <td>...</td>\n",
       "      <td>...</td>\n",
       "    </tr>\n",
       "    <tr>\n",
       "      <th>912995</th>\n",
       "      <td>10</td>\n",
       "      <td>50</td>\n",
       "      <td>76.0</td>\n",
       "      <td>76.0</td>\n",
       "      <td>76.0</td>\n",
       "      <td>62.714286</td>\n",
       "      <td>62.714286</td>\n",
       "      <td>62.714286</td>\n",
       "      <td>82.571429</td>\n",
       "      <td>76.0</td>\n",
       "      <td>41.0</td>\n",
       "      <td>4</td>\n",
       "      <td>12</td>\n",
       "      <td>27</td>\n",
       "      <td>52</td>\n",
       "      <td>2</td>\n",
       "    </tr>\n",
       "    <tr>\n",
       "      <th>912996</th>\n",
       "      <td>10</td>\n",
       "      <td>50</td>\n",
       "      <td>73.0</td>\n",
       "      <td>73.0</td>\n",
       "      <td>73.0</td>\n",
       "      <td>62.142857</td>\n",
       "      <td>62.142857</td>\n",
       "      <td>62.142857</td>\n",
       "      <td>80.571429</td>\n",
       "      <td>76.0</td>\n",
       "      <td>41.0</td>\n",
       "      <td>4</td>\n",
       "      <td>12</td>\n",
       "      <td>28</td>\n",
       "      <td>52</td>\n",
       "      <td>3</td>\n",
       "    </tr>\n",
       "    <tr>\n",
       "      <th>912997</th>\n",
       "      <td>10</td>\n",
       "      <td>50</td>\n",
       "      <td>66.0</td>\n",
       "      <td>66.0</td>\n",
       "      <td>66.0</td>\n",
       "      <td>62.000000</td>\n",
       "      <td>62.000000</td>\n",
       "      <td>62.000000</td>\n",
       "      <td>78.428571</td>\n",
       "      <td>76.0</td>\n",
       "      <td>41.0</td>\n",
       "      <td>4</td>\n",
       "      <td>12</td>\n",
       "      <td>29</td>\n",
       "      <td>52</td>\n",
       "      <td>4</td>\n",
       "    </tr>\n",
       "    <tr>\n",
       "      <th>912998</th>\n",
       "      <td>10</td>\n",
       "      <td>50</td>\n",
       "      <td>49.0</td>\n",
       "      <td>49.0</td>\n",
       "      <td>49.0</td>\n",
       "      <td>60.857143</td>\n",
       "      <td>60.857143</td>\n",
       "      <td>60.857143</td>\n",
       "      <td>74.285714</td>\n",
       "      <td>76.0</td>\n",
       "      <td>41.0</td>\n",
       "      <td>4</td>\n",
       "      <td>12</td>\n",
       "      <td>30</td>\n",
       "      <td>52</td>\n",
       "      <td>5</td>\n",
       "    </tr>\n",
       "    <tr>\n",
       "      <th>912999</th>\n",
       "      <td>10</td>\n",
       "      <td>50</td>\n",
       "      <td>75.0</td>\n",
       "      <td>75.0</td>\n",
       "      <td>75.0</td>\n",
       "      <td>61.714286</td>\n",
       "      <td>61.714286</td>\n",
       "      <td>61.714286</td>\n",
       "      <td>68.857143</td>\n",
       "      <td>82.0</td>\n",
       "      <td>41.0</td>\n",
       "      <td>4</td>\n",
       "      <td>12</td>\n",
       "      <td>31</td>\n",
       "      <td>52</td>\n",
       "      <td>6</td>\n",
       "    </tr>\n",
       "  </tbody>\n",
       "</table>\n",
       "<p>46000 rows × 16 columns</p>\n",
       "</div>"
      ],
      "text/plain": [
       "        store  item  lag_28  lag_28_2  lag_28_3    rmean_7  rmean_7_2  \\\n",
       "1734        1     1    23.0      23.0      23.0  23.000000  23.000000   \n",
       "1735        1     1    12.0      12.0      12.0  22.714286  22.714286   \n",
       "1736        1     1    26.0      26.0      26.0  22.714286  22.714286   \n",
       "1737        1     1    24.0      24.0      24.0  21.000000  21.000000   \n",
       "1738        1     1    29.0      29.0      29.0  20.571429  20.571429   \n",
       "...       ...   ...     ...       ...       ...        ...        ...   \n",
       "912995     10    50    76.0      76.0      76.0  62.714286  62.714286   \n",
       "912996     10    50    73.0      73.0      73.0  62.142857  62.142857   \n",
       "912997     10    50    66.0      66.0      66.0  62.000000  62.000000   \n",
       "912998     10    50    49.0      49.0      49.0  60.857143  60.857143   \n",
       "912999     10    50    75.0      75.0      75.0  61.714286  61.714286   \n",
       "\n",
       "        rmean_7_3  rmean_28_7  rmax_7  rmin_7  quarter  month  day  week  \\\n",
       "1734    23.000000   24.428571    30.0    14.0        4     10    1    39   \n",
       "1735    22.714286   24.000000    30.0    12.0        4     10    2    40   \n",
       "1736    22.714286   24.714286    30.0    12.0        4     10    3    40   \n",
       "1737    21.000000   25.000000    30.0    12.0        4     10    4    40   \n",
       "1738    20.571429   25.428571    30.0    12.0        4     10    5    40   \n",
       "...           ...         ...     ...     ...      ...    ...  ...   ...   \n",
       "912995  62.714286   82.571429    76.0    41.0        4     12   27    52   \n",
       "912996  62.142857   80.571429    76.0    41.0        4     12   28    52   \n",
       "912997  62.000000   78.428571    76.0    41.0        4     12   29    52   \n",
       "912998  60.857143   74.285714    76.0    41.0        4     12   30    52   \n",
       "912999  61.714286   68.857143    82.0    41.0        4     12   31    52   \n",
       "\n",
       "        weekday  \n",
       "1734          6  \n",
       "1735          0  \n",
       "1736          1  \n",
       "1737          2  \n",
       "1738          3  \n",
       "...         ...  \n",
       "912995        2  \n",
       "912996        3  \n",
       "912997        4  \n",
       "912998        5  \n",
       "912999        6  \n",
       "\n",
       "[46000 rows x 16 columns]"
      ]
     },
     "execution_count": 104,
     "metadata": {},
     "output_type": "execute_result"
    }
   ],
   "source": [
    "x_test"
   ]
  },
  {
   "cell_type": "markdown",
   "metadata": {},
   "source": [
    "### <span style=\"color:DarkGray;\"> Model training and validation </span>\n",
    "\n",
    "#### Train a  model on the train and validate your model on the test dataset (report your SMAPE score)"
   ]
  },
  {
   "cell_type": "code",
   "execution_count": 105,
   "metadata": {},
   "outputs": [],
   "source": [
    "def smape(A, F):\n",
    "    return 100/len(A) * np.sum(2 * np.abs(F - A) / (np.abs(A) + np.abs(F)))"
   ]
  },
  {
   "cell_type": "markdown",
   "metadata": {},
   "source": [
    "#### Linear Regression model"
   ]
  },
  {
   "cell_type": "code",
   "execution_count": 106,
   "metadata": {},
   "outputs": [
    {
     "name": "stdout",
     "output_type": "stream",
     "text": [
      "LR SMAPE: 13.587046336757995\n",
      "CPU times: total: 250 ms\n",
      "Wall time: 379 ms\n"
     ]
    }
   ],
   "source": [
    "%%time\n",
    "from sklearn.linear_model import LinearRegression\n",
    "\n",
    "# Fitting the model on train\n",
    "model = LinearRegression()\n",
    "model.fit(x_train, y_train)\n",
    "\n",
    "# Predicting the outputs for test\n",
    "y_pred = model.predict(x_test)\n",
    "\n",
    "# Evaluating with SMAPE\n",
    "print(f\"LR SMAPE: {smape(np.c_[y_test],np.c_[y_pred])}\")"
   ]
  },
  {
   "cell_type": "markdown",
   "metadata": {},
   "source": [
    "#### Your model"
   ]
  },
  {
   "cell_type": "code",
   "execution_count": 107,
   "metadata": {},
   "outputs": [],
   "source": [
    "import catboost\n",
    "from catboost import CatBoostRegressor,Pool"
   ]
  },
  {
   "cell_type": "code",
   "execution_count": 109,
   "metadata": {},
   "outputs": [
    {
     "name": "stdout",
     "output_type": "stream",
     "text": [
      "CB SMAPE: 10.502222448099223\n"
     ]
    }
   ],
   "source": [
    "cb_model = CatBoostRegressor(\n",
    "    n_estimators = 800, \n",
    "    random_seed = 42,\n",
    "    learning_rate = 0.1188,\n",
    "    #loss_function = 'RMSE',\n",
    "    logging_level = 'Silent',\n",
    ")\n",
    "\n",
    "cb_model = cb_model.fit(x_train, y_train, plot = False)\n",
    "\n",
    "y_pred = cb_model.predict(x_test)\n",
    "print(f\"CB SMAPE: {smape(np.c_[y_test],np.c_[y_pred])}\")"
   ]
  },
  {
   "cell_type": "code",
   "execution_count": 110,
   "metadata": {
    "scrolled": true
   },
   "outputs": [
    {
     "name": "stdout",
     "output_type": "stream",
     "text": [
      "rmean_7: 32.25643947848069\n",
      "rmean_7_2: 24.956799208449613\n",
      "weekday: 19.458107871375105\n",
      "rmean_7_3: 17.385708494817823\n",
      "rmax_7: 1.841219914329463\n",
      "rmin_7: 1.3042384840903258\n",
      "day: 0.8649008726543849\n",
      "month: 0.703145971039077\n",
      "week: 0.5747663359110115\n",
      "lag_28: 0.4824418185022763\n",
      "lag_28_3: 0.09537705753955227\n",
      "rmean_28_7: 0.0345496686931632\n",
      "lag_28_2: 0.018867635413079252\n",
      "quarter: 0.009342863555815418\n",
      "item: 0.009101297930794519\n",
      "store: 0.004993027217816533\n"
     ]
    }
   ],
   "source": [
    "train_pool = Pool(x_train, y_train)\n",
    "\n",
    "feature_importances = cb_model.get_feature_importance(train_pool)\n",
    "feature_names = x_train.columns\n",
    "for score, name in sorted(zip(feature_importances, feature_names), reverse = True):\n",
    "    print('{}: {}'.format(name, score))"
   ]
  },
  {
   "cell_type": "code",
   "execution_count": 111,
   "metadata": {},
   "outputs": [],
   "source": [
    "#!pip install lightgbm"
   ]
  },
  {
   "cell_type": "code",
   "execution_count": 112,
   "metadata": {},
   "outputs": [],
   "source": [
    "import lightgbm as lgb"
   ]
  },
  {
   "cell_type": "code",
   "execution_count": 113,
   "metadata": {},
   "outputs": [
    {
     "name": "stdout",
     "output_type": "stream",
     "text": [
      "lgbm SMAPE: 10.409847249719473\n"
     ]
    }
   ],
   "source": [
    "model = lgb.LGBMRegressor(\n",
    "        n_estimators=800,\n",
    "        colsample_bytree=0.8,\n",
    "        max_depth=10,\n",
    "        num_leaves=50,\n",
    "        min_child_weight=300\n",
    "        )\n",
    "model.fit(x_train, y_train)\n",
    "\n",
    "# Predicting the outputs for test\n",
    "y_pred = model.predict(x_test)\n",
    "\n",
    "y_pred = model.predict(x_test)\n",
    "print(f\"lgbm SMAPE: {smape(np.c_[y_test],np.c_[y_pred])}\")"
   ]
  },
  {
   "cell_type": "markdown",
   "metadata": {},
   "source": [
    "#### Plot store_id = 1, item_id == 10 actual sales data and their prediction from October 2017 to December 2017 (92 days)."
   ]
  },
  {
   "cell_type": "code",
   "execution_count": 118,
   "metadata": {},
   "outputs": [],
   "source": [
    "df_item_n = sales[(sales['item'] == 10) & (sales['store']==1)].set_index(\"date\")\n",
    "df_item_n = df_item_n.loc['2017-10-01':'2017-12-31'].reset_index()"
   ]
  },
  {
   "cell_type": "code",
   "execution_count": 119,
   "metadata": {},
   "outputs": [],
   "source": [
    "x_item_n = df_item_n.drop(columns=[\"sales\",\"date\"])\n",
    "y_item = df_item_n[\"sales\"]"
   ]
  },
  {
   "cell_type": "code",
   "execution_count": 120,
   "metadata": {
    "scrolled": true
   },
   "outputs": [],
   "source": [
    "y_pred = model.predict(x_item_n)"
   ]
  },
  {
   "cell_type": "code",
   "execution_count": 121,
   "metadata": {},
   "outputs": [
    {
     "data": {
      "image/png": "[encoded data removed]",
      "text/plain": [
       "<Figure size 432x288 with 1 Axes>"
      ]
     },
     "metadata": {},
     "output_type": "display_data"
    }
   ],
   "source": [
    "plt.plot(y_item, label = \"Real sales\");\n",
    "plt.plot(y_pred, label = \"Predicted\");\n",
    "plt.legend(); plt.show();"
   ]
  },
  {
   "cell_type": "markdown",
   "metadata": {},
   "source": [
    "---"
   ]
  },
  {
   "cell_type": "code",
   "execution_count": null,
   "metadata": {},
   "outputs": [],
   "source": []
  }
 ],
 "metadata": {
  "kernelspec": {
   "display_name": "mlcourse",
   "language": "python",
   "name": "mlcourse"
  },
  "language_info": {
   "codemirror_mode": {
    "name": "ipython",
    "version": 3
   },
   "file_extension": ".py",
   "mimetype": "text/x-python",
   "name": "python",
   "nbconvert_exporter": "python",
   "pygments_lexer": "ipython3",
   "version": "3.9.12"
  }
 },
 "nbformat": 4,
 "nbformat_minor": 2
}

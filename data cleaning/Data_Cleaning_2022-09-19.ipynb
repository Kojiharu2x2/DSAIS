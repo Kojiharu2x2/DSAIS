{
 "cells": [
  {
   "cell_type": "markdown",
   "id": "b823326b",
   "metadata": {},
   "source": [
    "<a class='anchor' id=\"summary\"></a>\n",
    "### [Table of Contents](#summary)\n",
    "\n",
    "\n",
    "- **[Day 1](#day1)**\n",
    "    - [Intro : check the original dataset](#intro)\n",
    "    - [Part I : Data rows preprocessing](#part1)\n",
    "    - [Part II : Data set preprocessing](#part2)\n",
    "    - [Part III : Refactorization](#part3)\n",
    "- **[Day 2](#day2)**\n",
    "    - [Summary statistics](#statistics)\n",
    "    - [Imputing missing values](#missing)\n",
    "    - [Compute value_counts for categorical columns](#value_counts)\n",
    "    - [Data lookup](#lookup)\n",
    "        - [Question 1](#question1)\n",
    "        - [Question 2](#question2)\n",
    "        - [Question 3](#question3)\n",
    "        - [Question 4](#question4)\n",
    "        - [Question 5](#question5)"
   ]
  },
  {
   "cell_type": "markdown",
   "id": "768f3e63",
   "metadata": {},
   "source": [
    "<a class='anchor' id=\"day1\"></span>\n",
    "# <span style=\"color:blue\"> Day 1</span>\n",
    "[Table of Contents](#summary)"
   ]
  },
  {
   "cell_type": "markdown",
   "id": "eab4171c",
   "metadata": {},
   "source": [
    "<a class='anchor' id='intro'></a>\n",
    "## Intro : check the original dataset\n",
    "\n",
    "You may download the original dataset from :\n",
    "https://www.kaggle.com/PromptCloudHQ/innerwear-data-from-victorias-secret-and-others\n",
    "- Explore the meta-data of the dataset\n",
    "- Understand the global content of the dataset\n",
    "- Check for the different variables and their type\n",
    "\n",
    "For this class, we will use a slightly modified version available here :\n",
    "https://github.com/jaotombo/data_science_from_scratch/tree/main/data\n",
    "<br>Download and unzip the `victoria` file into this course's data folder\n",
    "\n",
    "[Table of Contents](#summary)"
   ]
  },
  {
   "cell_type": "markdown",
   "id": "drawn-lightweight",
   "metadata": {},
   "source": [
    "<a class='anchor' id='part1'></a>\n",
    "## Part I : Data rows preprocessing\n",
    "[Table of Contents](#summary)"
   ]
  },
  {
   "cell_type": "code",
   "execution_count": 12,
   "id": "spare-confidentiality",
   "metadata": {},
   "outputs": [],
   "source": [
    "import pandas as pd\n",
    "import numpy as np\n",
    "import os"
   ]
  },
  {
   "cell_type": "code",
   "execution_count": 13,
   "id": "peaceful-tonight",
   "metadata": {},
   "outputs": [
    {
     "data": {
      "text/plain": [
       "'D:\\\\database'"
      ]
     },
     "execution_count": 13,
     "metadata": {},
     "output_type": "execute_result"
    }
   ],
   "source": [
    "os.getcwd()"
   ]
  },
  {
   "cell_type": "code",
   "execution_count": 14,
   "id": "tracked-clarity",
   "metadata": {},
   "outputs": [],
   "source": [
    "DATA_PATH = r'D:\\database'"
   ]
  },
  {
   "cell_type": "code",
   "execution_count": 15,
   "id": "536f321e",
   "metadata": {},
   "outputs": [],
   "source": [
    "# os.chdir('../../data')\n",
    "os.chdir(DATA_PATH)"
   ]
  },
  {
   "cell_type": "markdown",
   "id": "0a44100c",
   "metadata": {},
   "source": [
    "### Check a few data points (steps 1 and 2)\n",
    "\n",
    "**Check a few lines** (the first 3 or 5 lines - enough to be able to check the content) of the data file `data/victoria.csv`, \n",
    "\n",
    "**Pick one line, and see how to process it.**\n",
    "\n",
    "Which means: Check how lines are structured\n",
    "- what kind of delimiter\n",
    "- which variables (column names)\n",
    "- which type of data (str, float, int, ...)\n",
    "- Save one line for later analysis in one variable"
   ]
  },
  {
   "cell_type": "code",
   "execution_count": 16,
   "id": "sticky-therapist",
   "metadata": {},
   "outputs": [
    {
     "name": "stdout",
     "output_type": "stream",
     "text": [
      "product_name*mrp*price*pdp_url*brand_name*product_category*retailer*description*rating*review_count*style_attributes*total_sizes*available_size*color\n",
      "\n",
      "Very Sexy Strappy Lace Thong Panty*$14.50 *$14.50 *https://www.victoriassecret.com/panties/shop-all-panties/strappy-lace-thong-panty-very-sexy?ProductID=328310&CatalogueType=OLS*Victoria's Secret*Strappy Lace Thong Panty*Victoriassecret US*Lots of cheek peek, pretty lace, a strappy back—this sexy panty is so not subtle. Allover lace with front bow V-back with crisscross straps Low rise Minimal back coverage: lots of cheek peek Imported nylon/spandex****\"[\"\"XS\"\", \"\"S\"\", \"\"M\"\", \"\"L\"\", \"\"XL\"\"]\"*S*peach melba\n",
      "\n",
      "Very Sexy Strappy Lace Thong Panty*$14.50 *$14.50 *https://www.victoriassecret.com/panties/shop-all-panties/strappy-lace-thong-panty-very-sexy?ProductID=328310&CatalogueType=OLS*Victoria's Secret*Strappy Lace Thong Panty*Victoriassecret US*Lots of cheek peek, pretty lace, a strappy back—this sexy panty is so not subtle. Allover lace with front bow V-back with crisscross straps Low rise Minimal back coverage: lots of cheek peek Imported nylon/spandex****\"[\"\"XS\"\", \"\"S\"\", \"\"M\"\", \"\"L\"\", \"\"XL\"\"]\"*S*black\n",
      "\n",
      "Very Sexy Strappy Lace Thong Panty*$14.50 *$14.50 *https://www.victoriassecret.com/panties/shop-all-panties/strappy-lace-thong-panty-very-sexy?ProductID=328310&CatalogueType=OLS*Victoria's Secret*Strappy Lace Thong Panty*Victoriassecret US*Lots of cheek peek, pretty lace, a strappy back—this sexy panty is so not subtle. Allover lace with front bow V-back with crisscross straps Low rise Minimal back coverage: lots of cheek peek Imported nylon/spandex****\"[\"\"XS\"\", \"\"S\"\", \"\"M\"\", \"\"L\"\", \"\"XL\"\"]\"*S*plum dust\n",
      "\n"
     ]
    }
   ],
   "source": [
    "with open('victoria.csv','r', encoding='utf-8') as file:\n",
    "    count = 0\n",
    "    for line in file:\n",
    "        print(line)\n",
    "        count += 1\n",
    "        if count > 3 : break"
   ]
  },
  {
   "cell_type": "code",
   "execution_count": 17,
   "id": "magnetic-milwaukee",
   "metadata": {},
   "outputs": [],
   "source": [
    "one_line = line"
   ]
  },
  {
   "cell_type": "markdown",
   "id": "c1a6099f",
   "metadata": {},
   "source": [
    "## Experiment with one line to define data preprocessing"
   ]
  },
  {
   "cell_type": "code",
   "execution_count": 18,
   "id": "oriented-option",
   "metadata": {},
   "outputs": [
    {
     "data": {
      "text/plain": [
       "'Very Sexy Strappy Lace Thong Panty*$14.50 *$14.50 *https://www.victoriassecret.com/panties/shop-all-panties/strappy-lace-thong-panty-very-sexy?ProductID=328310&CatalogueType=OLS*Victoria\\'s Secret*Strappy Lace Thong Panty*Victoriassecret US*Lots of cheek peek, pretty lace, a strappy back—this sexy panty is so not subtle. Allover lace with front bow V-back with crisscross straps Low rise Minimal back coverage: lots of cheek peek Imported nylon/spandex****\"[\"\"XS\"\", \"\"S\"\", \"\"M\"\", \"\"L\"\", \"\"XL\"\"]\"*S*plum dust\\n'"
      ]
     },
     "execution_count": 18,
     "metadata": {},
     "output_type": "execute_result"
    }
   ],
   "source": [
    "# print the last line read in the dataset\n",
    "one_line"
   ]
  },
  {
   "cell_type": "code",
   "execution_count": 19,
   "id": "crucial-operation",
   "metadata": {},
   "outputs": [
    {
     "name": "stdout",
     "output_type": "stream",
     "text": [
      "product_name*mrp*price*pdp_url*brand_name*product_category*retailer*description*rating*review_count*style_attributes*total_sizes*available_size*color\n",
      "\n"
     ]
    }
   ],
   "source": [
    "# print an save the first line of the dataset\n",
    "with open('victoria.csv','r') as file:\n",
    "    for line in file:\n",
    "        print(line)\n",
    "        break\n",
    "\n",
    "columns = line"
   ]
  },
  {
   "cell_type": "code",
   "execution_count": 20,
   "id": "trained-pontiac",
   "metadata": {
    "scrolled": true
   },
   "outputs": [
    {
     "data": {
      "text/plain": [
       "['product_name',\n",
       " 'mrp',\n",
       " 'price',\n",
       " 'pdp_url',\n",
       " 'brand_name',\n",
       " 'product_category',\n",
       " 'retailer',\n",
       " 'description',\n",
       " 'rating',\n",
       " 'review_count',\n",
       " 'style_attributes',\n",
       " 'total_sizes',\n",
       " 'available_size',\n",
       " 'color\\n']"
      ]
     },
     "execution_count": 20,
     "metadata": {},
     "output_type": "execute_result"
    }
   ],
   "source": [
    "# split the first line using * as a delimiter : it outputs a list\n",
    "columns = columns.split('*')\n",
    "columns"
   ]
  },
  {
   "cell_type": "code",
   "execution_count": 21,
   "id": "comparable-reducing",
   "metadata": {},
   "outputs": [
    {
     "data": {
      "text/plain": [
       "['product_name',\n",
       " 'mrp',\n",
       " 'price',\n",
       " 'pdp_url',\n",
       " 'brand_name',\n",
       " 'product_category',\n",
       " 'retailer',\n",
       " 'description',\n",
       " 'rating',\n",
       " 'review_count',\n",
       " 'style_attributes',\n",
       " 'total_sizes',\n",
       " 'available_size',\n",
       " 'color']"
      ]
     },
     "execution_count": 21,
     "metadata": {},
     "output_type": "execute_result"
    }
   ],
   "source": [
    "# strip all the white spaces in the columns variable\n",
    "columns = [var.strip() for var in columns]\n",
    "columns"
   ]
  },
  {
   "cell_type": "code",
   "execution_count": 22,
   "id": "specific-civilization",
   "metadata": {
    "scrolled": true
   },
   "outputs": [
    {
     "data": {
      "text/plain": [
       "['Very Sexy Strappy Lace Thong Panty',\n",
       " '$14.50 ',\n",
       " '$14.50 ',\n",
       " 'https://www.victoriassecret.com/panties/shop-all-panties/strappy-lace-thong-panty-very-sexy?ProductID=328310&CatalogueType=OLS',\n",
       " \"Victoria's Secret\",\n",
       " 'Strappy Lace Thong Panty',\n",
       " 'Victoriassecret US',\n",
       " 'Lots of cheek peek, pretty lace, a strappy back—this sexy panty is so not subtle. Allover lace with front bow V-back with crisscross straps Low rise Minimal back coverage: lots of cheek peek Imported nylon/spandex',\n",
       " '',\n",
       " '',\n",
       " '',\n",
       " '\"[\"\"XS\"\", \"\"S\"\", \"\"M\"\", \"\"L\"\", \"\"XL\"\"]\"',\n",
       " 'S',\n",
       " 'plum dust\\n']"
      ]
     },
     "execution_count": 22,
     "metadata": {},
     "output_type": "execute_result"
    }
   ],
   "source": [
    "# split the fourth line of the dataset\n",
    "line_list = one_line.split('*')\n",
    "line_list"
   ]
  },
  {
   "cell_type": "code",
   "execution_count": 23,
   "id": "de31d099",
   "metadata": {},
   "outputs": [],
   "source": [
    "# a function that strips the white space from an element of a list\n",
    "def clean_last(element):\n",
    "    return element.strip()"
   ]
  },
  {
   "cell_type": "code",
   "execution_count": 24,
   "id": "8a610647",
   "metadata": {},
   "outputs": [
    {
     "data": {
      "text/plain": [
       "'plum dust'"
      ]
     },
     "execution_count": 24,
     "metadata": {},
     "output_type": "execute_result"
    }
   ],
   "source": [
    "# apply it on the last element of the fourth row of the dataset\n",
    "clean_last(line_list[-1])"
   ]
  },
  {
   "cell_type": "code",
   "execution_count": 25,
   "id": "d91ae186",
   "metadata": {},
   "outputs": [],
   "source": [
    "# a function that cleans a row of the dataset with a given delimiter\n",
    "def clean_line(row, delimiter):\n",
    "    row_list = row.split(delimiter)\n",
    "    return [val.strip() for val in row_list]"
   ]
  },
  {
   "cell_type": "code",
   "execution_count": 26,
   "id": "cf2febaa",
   "metadata": {
    "scrolled": true
   },
   "outputs": [
    {
     "data": {
      "text/plain": [
       "['Very Sexy Strappy Lace Thong Panty',\n",
       " '$14.50',\n",
       " '$14.50',\n",
       " 'https://www.victoriassecret.com/panties/shop-all-panties/strappy-lace-thong-panty-very-sexy?ProductID=328310&CatalogueType=OLS',\n",
       " \"Victoria's Secret\",\n",
       " 'Strappy Lace Thong Panty',\n",
       " 'Victoriassecret US',\n",
       " 'Lots of cheek peek, pretty lace, a strappy back—this sexy panty is so not subtle. Allover lace with front bow V-back with crisscross straps Low rise Minimal back coverage: lots of cheek peek Imported nylon/spandex',\n",
       " '',\n",
       " '',\n",
       " '',\n",
       " '\"[\"\"XS\"\", \"\"S\"\", \"\"M\"\", \"\"L\"\", \"\"XL\"\"]\"',\n",
       " 'S',\n",
       " 'plum dust']"
      ]
     },
     "execution_count": 26,
     "metadata": {},
     "output_type": "execute_result"
    }
   ],
   "source": [
    "# apply on the saved line, with the relevant delimiter *\n",
    "clean_line(one_line,'*')"
   ]
  },
  {
   "cell_type": "code",
   "execution_count": 27,
   "id": "852e0d97",
   "metadata": {
    "scrolled": true
   },
   "outputs": [
    {
     "data": {
      "text/plain": [
       "['product_name',\n",
       " 'mrp',\n",
       " 'price',\n",
       " 'pdp_url',\n",
       " 'brand_name',\n",
       " 'product_category',\n",
       " 'retailer',\n",
       " 'description',\n",
       " 'rating',\n",
       " 'review_count',\n",
       " 'style_attributes',\n",
       " 'total_sizes',\n",
       " 'available_size',\n",
       " 'color']"
      ]
     },
     "execution_count": 27,
     "metadata": {},
     "output_type": "execute_result"
    }
   ],
   "source": [
    "# apply on the first line, with the relevant delimiter *\n",
    "clean_line(line,'*')"
   ]
  },
  {
   "cell_type": "code",
   "execution_count": 28,
   "id": "distinguished-vietnamese",
   "metadata": {},
   "outputs": [],
   "source": [
    "def conv(price):\n",
    "    return (float(price.strip('$') if '$' in price else np.nan))"
   ]
  },
  {
   "cell_type": "code",
   "execution_count": 29,
   "id": "incorrect-ocean",
   "metadata": {},
   "outputs": [
    {
     "data": {
      "text/plain": [
       "14.5"
      ]
     },
     "execution_count": 29,
     "metadata": {},
     "output_type": "execute_result"
    }
   ],
   "source": [
    "conv(line_list[1])"
   ]
  },
  {
   "cell_type": "code",
   "execution_count": 30,
   "id": "appointed-ability",
   "metadata": {},
   "outputs": [],
   "source": [
    "# a function that converts price into float, otherwise into NANs\n",
    "def conv_price(l_value):\n",
    "    if '$' in l_value :\n",
    "        value = l_value.strip('$')\n",
    "    else:\n",
    "        value = np.nan\n",
    "    return float(value)"
   ]
  },
  {
   "cell_type": "code",
   "execution_count": 31,
   "id": "continental-disclosure",
   "metadata": {},
   "outputs": [
    {
     "name": "stdout",
     "output_type": "stream",
     "text": [
      "14.5\n",
      "14.5\n"
     ]
    }
   ],
   "source": [
    "# applying the function on the two price variables\n",
    "for value in line_list[1:3]:\n",
    "    print(conv_price(value))"
   ]
  },
  {
   "cell_type": "code",
   "execution_count": 32,
   "id": "e161809c",
   "metadata": {},
   "outputs": [
    {
     "name": "stdout",
     "output_type": "stream",
     "text": [
      "mrp 14.5\n",
      "price 14.5\n"
     ]
    }
   ],
   "source": [
    "# applying the function on the two price variables- version 2\n",
    "for j in range(1,3):\n",
    "    print(columns[j], conv_price(line_list[j]))"
   ]
  },
  {
   "cell_type": "code",
   "execution_count": 1,
   "id": "conceptual-surgery",
   "metadata": {},
   "outputs": [],
   "source": [
    "def repl_nan(value):\n",
    "    if value =='':\n",
    "        value = np.nan\n",
    "    else: value = float(value)\n",
    "    return value"
   ]
  },
  {
   "cell_type": "code",
   "execution_count": 34,
   "id": "8baed745",
   "metadata": {},
   "outputs": [
    {
     "name": "stdout",
     "output_type": "stream",
     "text": [
      "nan\n",
      "nan\n",
      "nan\n"
     ]
    }
   ],
   "source": [
    "for value in line_list[8:11]:\n",
    "    print(repl_nan(value))\n"
   ]
  },
  {
   "cell_type": "code",
   "execution_count": 35,
   "id": "b8820793",
   "metadata": {},
   "outputs": [
    {
     "data": {
      "text/plain": [
       "['Very Sexy Strappy Lace Thong Panty',\n",
       " '$14.50 ',\n",
       " '$14.50 ',\n",
       " 'https://www.victoriassecret.com/panties/shop-all-panties/strappy-lace-thong-panty-very-sexy?ProductID=328310&CatalogueType=OLS',\n",
       " \"Victoria's Secret\",\n",
       " 'Strappy Lace Thong Panty',\n",
       " 'Victoriassecret US',\n",
       " 'Lots of cheek peek, pretty lace, a strappy back—this sexy panty is so not subtle. Allover lace with front bow V-back with crisscross straps Low rise Minimal back coverage: lots of cheek peek Imported nylon/spandex',\n",
       " '',\n",
       " '',\n",
       " '',\n",
       " '\"[\"\"XS\"\", \"\"S\"\", \"\"M\"\", \"\"L\"\", \"\"XL\"\"]\"',\n",
       " 'S',\n",
       " 'plum dust\\n']"
      ]
     },
     "execution_count": 35,
     "metadata": {},
     "output_type": "execute_result"
    }
   ],
   "source": [
    "line_list"
   ]
  },
  {
   "cell_type": "code",
   "execution_count": 39,
   "id": "d3d36e38",
   "metadata": {},
   "outputs": [],
   "source": [
    "def conv_size(string):\n",
    "    import regex as re\n",
    "    size_list = string.split(',')\n",
    "    return [re.sub('[^A-Z0-9]','',size) for size in size_list]"
   ]
  },
  {
   "cell_type": "code",
   "execution_count": 40,
   "id": "a5c07f87",
   "metadata": {},
   "outputs": [
    {
     "data": {
      "text/plain": [
       "['XS', 'S', 'M', 'L', 'XL']"
      ]
     },
     "execution_count": 40,
     "metadata": {},
     "output_type": "execute_result"
    }
   ],
   "source": [
    "conv_size(line_list[-3])"
   ]
  },
  {
   "cell_type": "code",
   "execution_count": 53,
   "id": "81da0c4d",
   "metadata": {},
   "outputs": [],
   "source": [
    "def preproc(line_list):\n",
    "    '''\n",
    "    replaces all non $ prices (columns 1&2) into nan's\n",
    "    replaces all empty values (columns 8-10) into nan's\n",
    "    converts total size values into size list\n",
    "    removes the '\\n' character at the end of each row\n",
    "    '''\n",
    "    \n",
    "    line_list[1:3] = [conv_price(price) for price in line_list[1:3]]\n",
    "    line_list[8:11] = [repl_nan(value) for value in line_list[8:11]]\n",
    "    line_list[-3] = conv_size(line_list[-3])\n",
    "    line_list[-1] = clean_last(line_list[-1])\n",
    "    return line_list\n",
    "    "
   ]
  },
  {
   "cell_type": "code",
   "execution_count": 54,
   "id": "b5c84238",
   "metadata": {},
   "outputs": [
    {
     "ename": "TypeError",
     "evalue": "argument of type 'float' is not iterable",
     "output_type": "error",
     "traceback": [
      "\u001b[1;31m---------------------------------------------------------------------------\u001b[0m",
      "\u001b[1;31mTypeError\u001b[0m                                 Traceback (most recent call last)",
      "Input \u001b[1;32mIn [54]\u001b[0m, in \u001b[0;36m<cell line: 1>\u001b[1;34m()\u001b[0m\n\u001b[1;32m----> 1\u001b[0m \u001b[43mpreproc\u001b[49m\u001b[43m(\u001b[49m\u001b[43mline_list\u001b[49m\u001b[43m)\u001b[49m\n",
      "Input \u001b[1;32mIn [53]\u001b[0m, in \u001b[0;36mpreproc\u001b[1;34m(line_list)\u001b[0m\n\u001b[0;32m      1\u001b[0m \u001b[38;5;28;01mdef\u001b[39;00m \u001b[38;5;21mpreproc\u001b[39m(line_list):\n\u001b[0;32m      2\u001b[0m     \u001b[38;5;124;03m'''\u001b[39;00m\n\u001b[0;32m      3\u001b[0m \u001b[38;5;124;03m    replaces all non $ prices (columns 1&2) into nan's\u001b[39;00m\n\u001b[0;32m      4\u001b[0m \u001b[38;5;124;03m    replaces all empty values (columns 8-10) into nan's\u001b[39;00m\n\u001b[0;32m      5\u001b[0m \u001b[38;5;124;03m    converts total size values into size list\u001b[39;00m\n\u001b[0;32m      6\u001b[0m \u001b[38;5;124;03m    removes the '\\n' character at the end of each row\u001b[39;00m\n\u001b[0;32m      7\u001b[0m \u001b[38;5;124;03m    '''\u001b[39;00m\n\u001b[1;32m----> 9\u001b[0m     line_list[\u001b[38;5;241m1\u001b[39m:\u001b[38;5;241m3\u001b[39m] \u001b[38;5;241m=\u001b[39m [conv_price(price) \u001b[38;5;28;01mfor\u001b[39;00m price \u001b[38;5;129;01min\u001b[39;00m line_list[\u001b[38;5;241m1\u001b[39m:\u001b[38;5;241m3\u001b[39m]]\n\u001b[0;32m     10\u001b[0m     line_list[\u001b[38;5;241m8\u001b[39m:\u001b[38;5;241m11\u001b[39m] \u001b[38;5;241m=\u001b[39m [repl_nan(value) \u001b[38;5;28;01mfor\u001b[39;00m value \u001b[38;5;129;01min\u001b[39;00m line_list[\u001b[38;5;241m8\u001b[39m:\u001b[38;5;241m11\u001b[39m]]\n\u001b[0;32m     11\u001b[0m     line_list[\u001b[38;5;241m-\u001b[39m\u001b[38;5;241m3\u001b[39m] \u001b[38;5;241m=\u001b[39m conv_size(line_list[\u001b[38;5;241m-\u001b[39m\u001b[38;5;241m3\u001b[39m])\n",
      "Input \u001b[1;32mIn [53]\u001b[0m, in \u001b[0;36m<listcomp>\u001b[1;34m(.0)\u001b[0m\n\u001b[0;32m      1\u001b[0m \u001b[38;5;28;01mdef\u001b[39;00m \u001b[38;5;21mpreproc\u001b[39m(line_list):\n\u001b[0;32m      2\u001b[0m     \u001b[38;5;124;03m'''\u001b[39;00m\n\u001b[0;32m      3\u001b[0m \u001b[38;5;124;03m    replaces all non $ prices (columns 1&2) into nan's\u001b[39;00m\n\u001b[0;32m      4\u001b[0m \u001b[38;5;124;03m    replaces all empty values (columns 8-10) into nan's\u001b[39;00m\n\u001b[0;32m      5\u001b[0m \u001b[38;5;124;03m    converts total size values into size list\u001b[39;00m\n\u001b[0;32m      6\u001b[0m \u001b[38;5;124;03m    removes the '\\n' character at the end of each row\u001b[39;00m\n\u001b[0;32m      7\u001b[0m \u001b[38;5;124;03m    '''\u001b[39;00m\n\u001b[1;32m----> 9\u001b[0m     line_list[\u001b[38;5;241m1\u001b[39m:\u001b[38;5;241m3\u001b[39m] \u001b[38;5;241m=\u001b[39m [\u001b[43mconv_price\u001b[49m\u001b[43m(\u001b[49m\u001b[43mprice\u001b[49m\u001b[43m)\u001b[49m \u001b[38;5;28;01mfor\u001b[39;00m price \u001b[38;5;129;01min\u001b[39;00m line_list[\u001b[38;5;241m1\u001b[39m:\u001b[38;5;241m3\u001b[39m]]\n\u001b[0;32m     10\u001b[0m     line_list[\u001b[38;5;241m8\u001b[39m:\u001b[38;5;241m11\u001b[39m] \u001b[38;5;241m=\u001b[39m [repl_nan(value) \u001b[38;5;28;01mfor\u001b[39;00m value \u001b[38;5;129;01min\u001b[39;00m line_list[\u001b[38;5;241m8\u001b[39m:\u001b[38;5;241m11\u001b[39m]]\n\u001b[0;32m     11\u001b[0m     line_list[\u001b[38;5;241m-\u001b[39m\u001b[38;5;241m3\u001b[39m] \u001b[38;5;241m=\u001b[39m conv_size(line_list[\u001b[38;5;241m-\u001b[39m\u001b[38;5;241m3\u001b[39m])\n",
      "Input \u001b[1;32mIn [30]\u001b[0m, in \u001b[0;36mconv_price\u001b[1;34m(l_value)\u001b[0m\n\u001b[0;32m      2\u001b[0m \u001b[38;5;28;01mdef\u001b[39;00m \u001b[38;5;21mconv_price\u001b[39m(l_value):\n\u001b[1;32m----> 3\u001b[0m     \u001b[38;5;28;01mif\u001b[39;00m \u001b[38;5;124;43m'\u001b[39;49m\u001b[38;5;124;43m$\u001b[39;49m\u001b[38;5;124;43m'\u001b[39;49m\u001b[43m \u001b[49m\u001b[38;5;129;43;01min\u001b[39;49;00m\u001b[43m \u001b[49m\u001b[43ml_value\u001b[49m :\n\u001b[0;32m      4\u001b[0m         value \u001b[38;5;241m=\u001b[39m l_value\u001b[38;5;241m.\u001b[39mstrip(\u001b[38;5;124m'\u001b[39m\u001b[38;5;124m$\u001b[39m\u001b[38;5;124m'\u001b[39m)\n\u001b[0;32m      5\u001b[0m     \u001b[38;5;28;01melse\u001b[39;00m:\n",
      "\u001b[1;31mTypeError\u001b[0m: argument of type 'float' is not iterable"
     ]
    }
   ],
   "source": [
    "preproc(line_list)"
   ]
  },
  {
   "cell_type": "code",
   "execution_count": 61,
   "id": "eb445d4a",
   "metadata": {},
   "outputs": [],
   "source": [
    "df_raw = dict()\n",
    "with open('victoria.csv','r',encoding = 'utf-8')as file:\n",
    "    idx = -1\n",
    "    for line in file:\n",
    "        row = line.split('*')\n",
    "        if idx == -1:\n",
    "            df_raw['columns'] = row\n",
    "            idx+=1\n",
    "        else:\n",
    "            df_raw[idx] = row\n",
    "            idx+=1"
   ]
  },
  {
   "cell_type": "code",
   "execution_count": 62,
   "id": "0cc6d855",
   "metadata": {},
   "outputs": [
    {
     "data": {
      "text/plain": [
       "453387"
      ]
     },
     "execution_count": 62,
     "metadata": {},
     "output_type": "execute_result"
    }
   ],
   "source": [
    "len(df_raw)"
   ]
  },
  {
   "cell_type": "code",
   "execution_count": 63,
   "id": "c8ffe2d2",
   "metadata": {},
   "outputs": [],
   "source": [
    "import copy\n",
    "raw_df = copy.deepcopy(df_raw)"
   ]
  },
  {
   "cell_type": "code",
   "execution_count": 58,
   "id": "474c062a",
   "metadata": {},
   "outputs": [
    {
     "data": {
      "text/plain": [
       "['product_name',\n",
       " 'mrp',\n",
       " 'price',\n",
       " 'pdp_url',\n",
       " 'brand_name',\n",
       " 'product_category',\n",
       " 'retailer',\n",
       " 'description',\n",
       " 'rating',\n",
       " 'review_count',\n",
       " 'style_attributes',\n",
       " 'total_sizes',\n",
       " 'available_size',\n",
       " 'color\\n']"
      ]
     },
     "execution_count": 58,
     "metadata": {},
     "output_type": "execute_result"
    }
   ],
   "source": [
    "df_raw['columns']"
   ]
  },
  {
   "cell_type": "code",
   "execution_count": 64,
   "id": "53e7400d",
   "metadata": {},
   "outputs": [],
   "source": [
    "df_proc = {idx:preproc(row) for idx,row in df_raw.items() if type(idx)==int}"
   ]
  },
  {
   "cell_type": "code",
   "execution_count": 65,
   "id": "79ccf743",
   "metadata": {},
   "outputs": [
    {
     "name": "stdout",
     "output_type": "stream",
     "text": [
      "506\n"
     ]
    }
   ],
   "source": [
    "count = 0\n",
    "for row in df_raw.values():\n",
    "    if row[1] is np.nan or row[2] is np.nan:\n",
    "        count +=1\n",
    "print(count)"
   ]
  },
  {
   "cell_type": "code",
   "execution_count": 66,
   "id": "a00a64c4",
   "metadata": {},
   "outputs": [],
   "source": [
    "df_proc_nan = {idx:row for idx,row in df_proc.items() if (row[1] is not np.nan and row[2] is not np.nan)}"
   ]
  },
  {
   "cell_type": "code",
   "execution_count": 67,
   "id": "466783f1",
   "metadata": {},
   "outputs": [
    {
     "data": {
      "text/plain": [
       "452880"
      ]
     },
     "execution_count": 67,
     "metadata": {},
     "output_type": "execute_result"
    }
   ],
   "source": [
    "len(df_proc_nan)"
   ]
  },
  {
   "cell_type": "code",
   "execution_count": 68,
   "id": "c0411d2a",
   "metadata": {},
   "outputs": [],
   "source": [
    "mrp = [row[1] for row in df_proc_nan.values()]"
   ]
  },
  {
   "cell_type": "code",
   "execution_count": 69,
   "id": "60fac41c",
   "metadata": {},
   "outputs": [
    {
     "data": {
      "text/plain": [
       "36.028994877230176"
      ]
     },
     "execution_count": 69,
     "metadata": {},
     "output_type": "execute_result"
    }
   ],
   "source": [
    "np.mean(mrp)"
   ]
  },
  {
   "cell_type": "code",
   "execution_count": 70,
   "id": "efae9e9b",
   "metadata": {},
   "outputs": [
    {
     "data": {
      "text/plain": [
       "36.028994877193064"
      ]
     },
     "execution_count": 70,
     "metadata": {},
     "output_type": "execute_result"
    }
   ],
   "source": [
    "sum(mrp)/len(mrp)"
   ]
  },
  {
   "cell_type": "code",
   "execution_count": 71,
   "id": "020d6d50",
   "metadata": {},
   "outputs": [
    {
     "data": {
      "text/plain": [
       "36.0"
      ]
     },
     "execution_count": 71,
     "metadata": {},
     "output_type": "execute_result"
    }
   ],
   "source": [
    "np.median(mrp)"
   ]
  },
  {
   "cell_type": "code",
   "execution_count": 72,
   "id": "c5771f76",
   "metadata": {},
   "outputs": [
    {
     "data": {
      "text/plain": [
       "14.7628850988695"
      ]
     },
     "execution_count": 72,
     "metadata": {},
     "output_type": "execute_result"
    }
   ],
   "source": [
    "np.std(mrp,ddof=1) #degree of freedom n-1"
   ]
  },
  {
   "cell_type": "code",
   "execution_count": 73,
   "id": "5c023baf",
   "metadata": {},
   "outputs": [
    {
     "data": {
      "text/plain": [
       "29.5"
      ]
     },
     "execution_count": 73,
     "metadata": {},
     "output_type": "execute_result"
    }
   ],
   "source": [
    "np.percentile(mrp,25)"
   ]
  },
  {
   "cell_type": "code",
   "execution_count": 75,
   "id": "e84d30f4",
   "metadata": {},
   "outputs": [
    {
     "name": "stdout",
     "output_type": "stream",
     "text": [
      "0 product_name\n",
      "1 mrp\n",
      "2 price\n",
      "3 pdp_url\n",
      "4 brand_name\n",
      "5 product_category\n",
      "6 retailer\n",
      "7 description\n",
      "8 rating\n",
      "9 review_count\n",
      "10 style_attributes\n",
      "11 total_sizes\n",
      "12 available_size\n",
      "13 color\n",
      "\n"
     ]
    }
   ],
   "source": [
    "for idx,name in enumerate(raw_df['columns']):\n",
    "    #enumerate 遍历一个可迭代序列，返回带索引的序列，默认索引从0开始\n",
    "    print(idx,name)"
   ]
  },
  {
   "cell_type": "code",
   "execution_count": 76,
   "id": "221f9475",
   "metadata": {},
   "outputs": [],
   "source": [
    "def num_col(df,col_index):\n",
    "    col = []\n",
    "    for row in df.values():\n",
    "        if type(row[col_index]) not in [float,int]:\n",
    "            print('No numerical')\n",
    "            break\n",
    "        elif type(row[col_index]) in [float,int] and row[col_index] is not np.nan:\n",
    "            col.append(row[col_index])\n",
    "    return col"
   ]
  },
  {
   "cell_type": "code",
   "execution_count": 77,
   "id": "b198bb1c",
   "metadata": {},
   "outputs": [
    {
     "data": {
      "text/plain": [
       "137734"
      ]
     },
     "execution_count": 77,
     "metadata": {},
     "output_type": "execute_result"
    }
   ],
   "source": [
    "col1 = num_col(df_proc,8)\n",
    "len(col1)"
   ]
  },
  {
   "cell_type": "code",
   "execution_count": 80,
   "id": "0bc5115f",
   "metadata": {},
   "outputs": [],
   "source": [
    "def extract_num_col(df,col_index):\n",
    "    return [row[col_index] for row in df.values() if type(row[col_index]) in [float,int] and row[col_index]is not np.nan]"
   ]
  },
  {
   "cell_type": "code",
   "execution_count": 82,
   "id": "01ac2b0c",
   "metadata": {},
   "outputs": [
    {
     "data": {
      "text/plain": [
       "137734"
      ]
     },
     "execution_count": 82,
     "metadata": {},
     "output_type": "execute_result"
    }
   ],
   "source": [
    "col2 = extract_num_col(df_proc,8)\n",
    "len(col2)"
   ]
  },
  {
   "cell_type": "code",
   "execution_count": null,
   "id": "08612985",
   "metadata": {},
   "outputs": [],
   "source": []
  }
 ],
 "metadata": {
  "kernelspec": {
   "display_name": "Python 3 (ipykernel)",
   "language": "python",
   "name": "python3"
  },
  "language_info": {
   "codemirror_mode": {
    "name": "ipython",
    "version": 3
   },
   "file_extension": ".py",
   "mimetype": "text/x-python",
   "name": "python",
   "nbconvert_exporter": "python",
   "pygments_lexer": "ipython3",
   "version": "3.9.12"
  }
 },
 "nbformat": 4,
 "nbformat_minor": 5
}

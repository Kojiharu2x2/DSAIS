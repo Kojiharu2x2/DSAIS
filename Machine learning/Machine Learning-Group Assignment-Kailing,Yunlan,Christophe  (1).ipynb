{
 "cells": [
  {
   "cell_type": "markdown",
   "id": "ac020316",
   "metadata": {},
   "source": [
    "Team members: Kailing YIN, Yunlan JIANG, Christophe GUIBOURD de LUZINAIS"
   ]
  },
  {
   "cell_type": "code",
   "execution_count": 1,
   "id": "c2902378",
   "metadata": {},
   "outputs": [],
   "source": [
    "import pandas as pd\n",
    "import numpy as np\n",
    "from numpy.linalg import inv\n",
    "import matplotlib.pyplot as plt\n",
    "from tqdm.notebook import trange\n",
    "%matplotlib inline\n",
    "import datetime"
   ]
  },
  {
   "cell_type": "code",
   "execution_count": 45,
   "id": "a91572af",
   "metadata": {},
   "outputs": [],
   "source": [
    "#Load the dataset\n",
    "df=pd.read_csv(r'C:\\Users\\chris\\Documents\\Emlyon Machine Learning\\Apartment rental offers in Germany_1.csv')"
   ]
  },
  {
   "cell_type": "markdown",
   "id": "2a291513",
   "metadata": {},
   "source": [
    "### Clean the dataset"
   ]
  },
  {
   "cell_type": "code",
   "execution_count": 46,
   "id": "555220d1",
   "metadata": {},
   "outputs": [
    {
     "data": {
      "text/html": [
       "<div>\n",
       "<style scoped>\n",
       "    .dataframe tbody tr th:only-of-type {\n",
       "        vertical-align: middle;\n",
       "    }\n",
       "\n",
       "    .dataframe tbody tr th {\n",
       "        vertical-align: top;\n",
       "    }\n",
       "\n",
       "    .dataframe thead th {\n",
       "        text-align: right;\n",
       "    }\n",
       "</style>\n",
       "<table border=\"1\" class=\"dataframe\">\n",
       "  <thead>\n",
       "    <tr style=\"text-align: right;\">\n",
       "      <th></th>\n",
       "      <th>regio1</th>\n",
       "      <th>regio2</th>\n",
       "      <th>regio3</th>\n",
       "      <th>Street</th>\n",
       "      <th>Heating Type</th>\n",
       "      <th>Pets Allowed</th>\n",
       "      <th>Balcony</th>\n",
       "      <th>Has Kitchen</th>\n",
       "      <th>Firing Types</th>\n",
       "      <th>Garden</th>\n",
       "      <th>Lift</th>\n",
       "      <th>Price Trend</th>\n",
       "      <th>Telekom Upload Speed</th>\n",
       "      <th>Year Constructed</th>\n",
       "      <th>living Space</th>\n",
       "      <th>no Rooms</th>\n",
       "      <th>Floor</th>\n",
       "      <th>Service Charge</th>\n",
       "      <th>Base Rent</th>\n",
       "    </tr>\n",
       "  </thead>\n",
       "  <tbody>\n",
       "    <tr>\n",
       "      <th>0</th>\n",
       "      <td>Nordrhein_Westfalen</td>\n",
       "      <td>Dortmund</td>\n",
       "      <td>Sch??ren</td>\n",
       "      <td>Sch&amp;uuml;ruferstra&amp;szlig;e</td>\n",
       "      <td>central_heating</td>\n",
       "      <td>NaN</td>\n",
       "      <td>False</td>\n",
       "      <td>False</td>\n",
       "      <td>oil</td>\n",
       "      <td>True</td>\n",
       "      <td>False</td>\n",
       "      <td>4.62</td>\n",
       "      <td>10.0</td>\n",
       "      <td>1965.0</td>\n",
       "      <td>86.00</td>\n",
       "      <td>4.0</td>\n",
       "      <td>1.0</td>\n",
       "      <td>245.00</td>\n",
       "      <td>595.0</td>\n",
       "    </tr>\n",
       "    <tr>\n",
       "      <th>1</th>\n",
       "      <td>Rheinland_Pfalz</td>\n",
       "      <td>Rhein_Pfalz_Kreis</td>\n",
       "      <td>B??hl_Iggelheim</td>\n",
       "      <td>no_information</td>\n",
       "      <td>self_contained_central_heating</td>\n",
       "      <td>no</td>\n",
       "      <td>True</td>\n",
       "      <td>False</td>\n",
       "      <td>gas</td>\n",
       "      <td>False</td>\n",
       "      <td>False</td>\n",
       "      <td>3.47</td>\n",
       "      <td>10.0</td>\n",
       "      <td>1871.0</td>\n",
       "      <td>89.00</td>\n",
       "      <td>3.0</td>\n",
       "      <td>NaN</td>\n",
       "      <td>134.00</td>\n",
       "      <td>800.0</td>\n",
       "    </tr>\n",
       "    <tr>\n",
       "      <th>2</th>\n",
       "      <td>Sachsen</td>\n",
       "      <td>Dresden</td>\n",
       "      <td>??u??ere_Neustadt_Antonstadt</td>\n",
       "      <td>Turnerweg</td>\n",
       "      <td>floor_heating</td>\n",
       "      <td>NaN</td>\n",
       "      <td>True</td>\n",
       "      <td>False</td>\n",
       "      <td>NaN</td>\n",
       "      <td>False</td>\n",
       "      <td>True</td>\n",
       "      <td>2.72</td>\n",
       "      <td>2.4</td>\n",
       "      <td>2019.0</td>\n",
       "      <td>83.80</td>\n",
       "      <td>3.0</td>\n",
       "      <td>3.0</td>\n",
       "      <td>255.00</td>\n",
       "      <td>965.0</td>\n",
       "    </tr>\n",
       "    <tr>\n",
       "      <th>3</th>\n",
       "      <td>Sachsen</td>\n",
       "      <td>Mittelsachsen_Kreis</td>\n",
       "      <td>Freiberg</td>\n",
       "      <td>Gl&amp;uuml;ck-Auf-Stra&amp;szlig;e</td>\n",
       "      <td>district_heating</td>\n",
       "      <td>NaN</td>\n",
       "      <td>True</td>\n",
       "      <td>False</td>\n",
       "      <td>district_heating</td>\n",
       "      <td>False</td>\n",
       "      <td>False</td>\n",
       "      <td>1.53</td>\n",
       "      <td>40.0</td>\n",
       "      <td>1964.0</td>\n",
       "      <td>58.15</td>\n",
       "      <td>3.0</td>\n",
       "      <td>3.0</td>\n",
       "      <td>58.15</td>\n",
       "      <td>343.0</td>\n",
       "    </tr>\n",
       "    <tr>\n",
       "      <th>4</th>\n",
       "      <td>Bremen</td>\n",
       "      <td>Bremen</td>\n",
       "      <td>Neu_Schwachhausen</td>\n",
       "      <td>Hermann-Henrich-Meier-Allee</td>\n",
       "      <td>self_contained_central_heating</td>\n",
       "      <td>NaN</td>\n",
       "      <td>True</td>\n",
       "      <td>False</td>\n",
       "      <td>gas</td>\n",
       "      <td>False</td>\n",
       "      <td>False</td>\n",
       "      <td>2.46</td>\n",
       "      <td>NaN</td>\n",
       "      <td>1950.0</td>\n",
       "      <td>84.97</td>\n",
       "      <td>3.0</td>\n",
       "      <td>1.0</td>\n",
       "      <td>138.00</td>\n",
       "      <td>765.0</td>\n",
       "    </tr>\n",
       "  </tbody>\n",
       "</table>\n",
       "</div>"
      ],
      "text/plain": [
       "                regio1               regio2                        regio3  \\\n",
       "0  Nordrhein_Westfalen             Dortmund                      Sch??ren   \n",
       "1      Rheinland_Pfalz    Rhein_Pfalz_Kreis               B??hl_Iggelheim   \n",
       "2              Sachsen              Dresden  ??u??ere_Neustadt_Antonstadt   \n",
       "3              Sachsen  Mittelsachsen_Kreis                      Freiberg   \n",
       "4               Bremen               Bremen             Neu_Schwachhausen   \n",
       "\n",
       "                        Street                    Heating Type Pets Allowed  \\\n",
       "0   Sch&uuml;ruferstra&szlig;e                 central_heating          NaN   \n",
       "1               no_information  self_contained_central_heating           no   \n",
       "2                    Turnerweg                   floor_heating          NaN   \n",
       "3  Gl&uuml;ck-Auf-Stra&szlig;e                district_heating          NaN   \n",
       "4  Hermann-Henrich-Meier-Allee  self_contained_central_heating          NaN   \n",
       "\n",
       "   Balcony  Has Kitchen      Firing Types  Garden   Lift  Price Trend  \\\n",
       "0    False        False               oil    True  False         4.62   \n",
       "1     True        False               gas   False  False         3.47   \n",
       "2     True        False               NaN   False   True         2.72   \n",
       "3     True        False  district_heating   False  False         1.53   \n",
       "4     True        False               gas   False  False         2.46   \n",
       "\n",
       "   Telekom Upload Speed  Year Constructed  living Space  no Rooms  Floor  \\\n",
       "0                  10.0            1965.0         86.00       4.0    1.0   \n",
       "1                  10.0            1871.0         89.00       3.0    NaN   \n",
       "2                   2.4            2019.0         83.80       3.0    3.0   \n",
       "3                  40.0            1964.0         58.15       3.0    3.0   \n",
       "4                   NaN            1950.0         84.97       3.0    1.0   \n",
       "\n",
       "   Service Charge  Base Rent  \n",
       "0          245.00      595.0  \n",
       "1          134.00      800.0  \n",
       "2          255.00      965.0  \n",
       "3           58.15      343.0  \n",
       "4          138.00      765.0  "
      ]
     },
     "execution_count": 46,
     "metadata": {},
     "output_type": "execute_result"
    }
   ],
   "source": [
    "# Look at first 5 rows of dataset\n",
    "df.head()"
   ]
  },
  {
   "cell_type": "code",
   "execution_count": 47,
   "id": "4851033c",
   "metadata": {},
   "outputs": [
    {
     "data": {
      "text/html": [
       "<div>\n",
       "<style scoped>\n",
       "    .dataframe tbody tr th:only-of-type {\n",
       "        vertical-align: middle;\n",
       "    }\n",
       "\n",
       "    .dataframe tbody tr th {\n",
       "        vertical-align: top;\n",
       "    }\n",
       "\n",
       "    .dataframe thead th {\n",
       "        text-align: right;\n",
       "    }\n",
       "</style>\n",
       "<table border=\"1\" class=\"dataframe\">\n",
       "  <thead>\n",
       "    <tr style=\"text-align: right;\">\n",
       "      <th></th>\n",
       "      <th>Price Trend</th>\n",
       "      <th>Telekom Upload Speed</th>\n",
       "      <th>Year Constructed</th>\n",
       "      <th>living Space</th>\n",
       "      <th>no Rooms</th>\n",
       "      <th>Floor</th>\n",
       "      <th>Service Charge</th>\n",
       "      <th>Base Rent</th>\n",
       "    </tr>\n",
       "  </thead>\n",
       "  <tbody>\n",
       "    <tr>\n",
       "      <th>count</th>\n",
       "      <td>29818.000000</td>\n",
       "      <td>26287.000000</td>\n",
       "      <td>23621.000000</td>\n",
       "      <td>29999.000000</td>\n",
       "      <td>29999.000000</td>\n",
       "      <td>24286.000000</td>\n",
       "      <td>29215.000000</td>\n",
       "      <td>2.999900e+04</td>\n",
       "    </tr>\n",
       "    <tr>\n",
       "      <th>mean</th>\n",
       "      <td>3.274416</td>\n",
       "      <td>28.518226</td>\n",
       "      <td>1965.769358</td>\n",
       "      <td>73.004846</td>\n",
       "      <td>2.633855</td>\n",
       "      <td>2.129622</td>\n",
       "      <td>153.443268</td>\n",
       "      <td>6.788522e+02</td>\n",
       "    </tr>\n",
       "    <tr>\n",
       "      <th>std</th>\n",
       "      <td>1.988313</td>\n",
       "      <td>16.478971</td>\n",
       "      <td>48.037153</td>\n",
       "      <td>32.190428</td>\n",
       "      <td>1.790515</td>\n",
       "      <td>1.942916</td>\n",
       "      <td>858.445696</td>\n",
       "      <td>7.174898e+03</td>\n",
       "    </tr>\n",
       "    <tr>\n",
       "      <th>min</th>\n",
       "      <td>-9.170000</td>\n",
       "      <td>1.000000</td>\n",
       "      <td>1111.000000</td>\n",
       "      <td>0.000000</td>\n",
       "      <td>1.000000</td>\n",
       "      <td>-1.000000</td>\n",
       "      <td>0.000000</td>\n",
       "      <td>0.000000e+00</td>\n",
       "    </tr>\n",
       "    <tr>\n",
       "      <th>25%</th>\n",
       "      <td>1.890000</td>\n",
       "      <td>10.000000</td>\n",
       "      <td>1946.000000</td>\n",
       "      <td>54.000000</td>\n",
       "      <td>2.000000</td>\n",
       "      <td>1.000000</td>\n",
       "      <td>92.000000</td>\n",
       "      <td>3.280000e+02</td>\n",
       "    </tr>\n",
       "    <tr>\n",
       "      <th>50%</th>\n",
       "      <td>3.280000</td>\n",
       "      <td>40.000000</td>\n",
       "      <td>1972.000000</td>\n",
       "      <td>66.640000</td>\n",
       "      <td>3.000000</td>\n",
       "      <td>2.000000</td>\n",
       "      <td>133.000000</td>\n",
       "      <td>4.700000e+02</td>\n",
       "    </tr>\n",
       "    <tr>\n",
       "      <th>75%</th>\n",
       "      <td>4.500000</td>\n",
       "      <td>40.000000</td>\n",
       "      <td>1996.000000</td>\n",
       "      <td>86.000000</td>\n",
       "      <td>3.000000</td>\n",
       "      <td>3.000000</td>\n",
       "      <td>185.000000</td>\n",
       "      <td>7.804500e+02</td>\n",
       "    </tr>\n",
       "    <tr>\n",
       "      <th>max</th>\n",
       "      <td>12.260000</td>\n",
       "      <td>100.000000</td>\n",
       "      <td>2020.000000</td>\n",
       "      <td>649.000000</td>\n",
       "      <td>200.000000</td>\n",
       "      <td>136.000000</td>\n",
       "      <td>146118.000000</td>\n",
       "      <td>1.234567e+06</td>\n",
       "    </tr>\n",
       "  </tbody>\n",
       "</table>\n",
       "</div>"
      ],
      "text/plain": [
       "        Price Trend  Telekom Upload Speed  Year Constructed  living Space  \\\n",
       "count  29818.000000          26287.000000      23621.000000  29999.000000   \n",
       "mean       3.274416             28.518226       1965.769358     73.004846   \n",
       "std        1.988313             16.478971         48.037153     32.190428   \n",
       "min       -9.170000              1.000000       1111.000000      0.000000   \n",
       "25%        1.890000             10.000000       1946.000000     54.000000   \n",
       "50%        3.280000             40.000000       1972.000000     66.640000   \n",
       "75%        4.500000             40.000000       1996.000000     86.000000   \n",
       "max       12.260000            100.000000       2020.000000    649.000000   \n",
       "\n",
       "           no Rooms         Floor  Service Charge     Base Rent  \n",
       "count  29999.000000  24286.000000    29215.000000  2.999900e+04  \n",
       "mean       2.633855      2.129622      153.443268  6.788522e+02  \n",
       "std        1.790515      1.942916      858.445696  7.174898e+03  \n",
       "min        1.000000     -1.000000        0.000000  0.000000e+00  \n",
       "25%        2.000000      1.000000       92.000000  3.280000e+02  \n",
       "50%        3.000000      2.000000      133.000000  4.700000e+02  \n",
       "75%        3.000000      3.000000      185.000000  7.804500e+02  \n",
       "max      200.000000    136.000000   146118.000000  1.234567e+06  "
      ]
     },
     "execution_count": 47,
     "metadata": {},
     "output_type": "execute_result"
    }
   ],
   "source": [
    "df.describe()"
   ]
  },
  {
   "cell_type": "code",
   "execution_count": 48,
   "id": "430af02d",
   "metadata": {},
   "outputs": [
    {
     "data": {
      "text/plain": [
       "Index(['regio1', 'regio2', 'regio3', 'Street', 'Heating Type', 'Pets Allowed',\n",
       "       'Balcony', 'Has Kitchen', 'Firing Types', 'Garden', 'Lift',\n",
       "       'Price Trend', 'Telekom Upload Speed', 'Year Constructed',\n",
       "       'living Space', 'no Rooms', 'Floor', 'Service Charge', 'Base Rent'],\n",
       "      dtype='object')"
      ]
     },
     "execution_count": 48,
     "metadata": {},
     "output_type": "execute_result"
    }
   ],
   "source": [
    "df.columns"
   ]
  },
  {
   "cell_type": "code",
   "execution_count": 49,
   "id": "75922c91",
   "metadata": {},
   "outputs": [],
   "source": [
    "# Extract numerical columns\n",
    "df = df.iloc[:,6:]\n",
    "\n"
   ]
  },
  {
   "cell_type": "code",
   "execution_count": 50,
   "id": "380fb34f",
   "metadata": {},
   "outputs": [],
   "source": [
    "df.drop(columns = ['Firing Types'],inplace = True)"
   ]
  },
  {
   "cell_type": "code",
   "execution_count": 51,
   "id": "136213e9",
   "metadata": {},
   "outputs": [
    {
     "data": {
      "text/html": [
       "<div>\n",
       "<style scoped>\n",
       "    .dataframe tbody tr th:only-of-type {\n",
       "        vertical-align: middle;\n",
       "    }\n",
       "\n",
       "    .dataframe tbody tr th {\n",
       "        vertical-align: top;\n",
       "    }\n",
       "\n",
       "    .dataframe thead th {\n",
       "        text-align: right;\n",
       "    }\n",
       "</style>\n",
       "<table border=\"1\" class=\"dataframe\">\n",
       "  <thead>\n",
       "    <tr style=\"text-align: right;\">\n",
       "      <th></th>\n",
       "      <th>Balcony</th>\n",
       "      <th>Has Kitchen</th>\n",
       "      <th>Garden</th>\n",
       "      <th>Lift</th>\n",
       "      <th>Price Trend</th>\n",
       "      <th>Telekom Upload Speed</th>\n",
       "      <th>Year Constructed</th>\n",
       "      <th>living Space</th>\n",
       "      <th>no Rooms</th>\n",
       "      <th>Floor</th>\n",
       "      <th>Service Charge</th>\n",
       "      <th>Base Rent</th>\n",
       "    </tr>\n",
       "  </thead>\n",
       "  <tbody>\n",
       "    <tr>\n",
       "      <th>0</th>\n",
       "      <td>False</td>\n",
       "      <td>False</td>\n",
       "      <td>True</td>\n",
       "      <td>False</td>\n",
       "      <td>4.62</td>\n",
       "      <td>10.0</td>\n",
       "      <td>1965.0</td>\n",
       "      <td>86.00</td>\n",
       "      <td>4.0</td>\n",
       "      <td>1.0</td>\n",
       "      <td>245.00</td>\n",
       "      <td>595.0</td>\n",
       "    </tr>\n",
       "    <tr>\n",
       "      <th>1</th>\n",
       "      <td>True</td>\n",
       "      <td>False</td>\n",
       "      <td>False</td>\n",
       "      <td>False</td>\n",
       "      <td>3.47</td>\n",
       "      <td>10.0</td>\n",
       "      <td>1871.0</td>\n",
       "      <td>89.00</td>\n",
       "      <td>3.0</td>\n",
       "      <td>NaN</td>\n",
       "      <td>134.00</td>\n",
       "      <td>800.0</td>\n",
       "    </tr>\n",
       "    <tr>\n",
       "      <th>2</th>\n",
       "      <td>True</td>\n",
       "      <td>False</td>\n",
       "      <td>False</td>\n",
       "      <td>True</td>\n",
       "      <td>2.72</td>\n",
       "      <td>2.4</td>\n",
       "      <td>2019.0</td>\n",
       "      <td>83.80</td>\n",
       "      <td>3.0</td>\n",
       "      <td>3.0</td>\n",
       "      <td>255.00</td>\n",
       "      <td>965.0</td>\n",
       "    </tr>\n",
       "    <tr>\n",
       "      <th>3</th>\n",
       "      <td>True</td>\n",
       "      <td>False</td>\n",
       "      <td>False</td>\n",
       "      <td>False</td>\n",
       "      <td>1.53</td>\n",
       "      <td>40.0</td>\n",
       "      <td>1964.0</td>\n",
       "      <td>58.15</td>\n",
       "      <td>3.0</td>\n",
       "      <td>3.0</td>\n",
       "      <td>58.15</td>\n",
       "      <td>343.0</td>\n",
       "    </tr>\n",
       "    <tr>\n",
       "      <th>4</th>\n",
       "      <td>True</td>\n",
       "      <td>False</td>\n",
       "      <td>False</td>\n",
       "      <td>False</td>\n",
       "      <td>2.46</td>\n",
       "      <td>NaN</td>\n",
       "      <td>1950.0</td>\n",
       "      <td>84.97</td>\n",
       "      <td>3.0</td>\n",
       "      <td>1.0</td>\n",
       "      <td>138.00</td>\n",
       "      <td>765.0</td>\n",
       "    </tr>\n",
       "  </tbody>\n",
       "</table>\n",
       "</div>"
      ],
      "text/plain": [
       "   Balcony  Has Kitchen  Garden   Lift  Price Trend  Telekom Upload Speed  \\\n",
       "0    False        False    True  False         4.62                  10.0   \n",
       "1     True        False   False  False         3.47                  10.0   \n",
       "2     True        False   False   True         2.72                   2.4   \n",
       "3     True        False   False  False         1.53                  40.0   \n",
       "4     True        False   False  False         2.46                   NaN   \n",
       "\n",
       "   Year Constructed  living Space  no Rooms  Floor  Service Charge  Base Rent  \n",
       "0            1965.0         86.00       4.0    1.0          245.00      595.0  \n",
       "1            1871.0         89.00       3.0    NaN          134.00      800.0  \n",
       "2            2019.0         83.80       3.0    3.0          255.00      965.0  \n",
       "3            1964.0         58.15       3.0    3.0           58.15      343.0  \n",
       "4            1950.0         84.97       3.0    1.0          138.00      765.0  "
      ]
     },
     "execution_count": 51,
     "metadata": {},
     "output_type": "execute_result"
    }
   ],
   "source": [
    "df.head()"
   ]
  },
  {
   "cell_type": "code",
   "execution_count": 52,
   "id": "cf6d657b",
   "metadata": {
    "scrolled": true
   },
   "outputs": [
    {
     "data": {
      "text/plain": [
       "<bound method NDFrame._add_numeric_operations.<locals>.sum of        Balcony  Has Kitchen  Garden   Lift  Price Trend  Telekom Upload Speed  \\\n",
       "0        False        False   False  False        False                 False   \n",
       "1        False        False   False  False        False                 False   \n",
       "2        False        False   False  False        False                 False   \n",
       "3        False        False   False  False        False                 False   \n",
       "4        False        False   False  False        False                  True   \n",
       "...        ...          ...     ...    ...          ...                   ...   \n",
       "29994    False        False   False  False        False                  True   \n",
       "29995    False        False   False  False        False                  True   \n",
       "29996    False        False   False  False        False                 False   \n",
       "29997    False        False   False  False        False                  True   \n",
       "29998    False        False   False  False        False                  True   \n",
       "\n",
       "       Year Constructed  living Space  no Rooms  Floor  Service Charge  \\\n",
       "0                 False         False     False  False           False   \n",
       "1                 False         False     False   True           False   \n",
       "2                 False         False     False  False           False   \n",
       "3                 False         False     False  False           False   \n",
       "4                 False         False     False  False           False   \n",
       "...                 ...           ...       ...    ...             ...   \n",
       "29994             False         False     False  False           False   \n",
       "29995             False         False     False  False           False   \n",
       "29996             False         False     False  False           False   \n",
       "29997             False         False     False  False           False   \n",
       "29998             False         False     False  False           False   \n",
       "\n",
       "       Base Rent  \n",
       "0          False  \n",
       "1          False  \n",
       "2          False  \n",
       "3          False  \n",
       "4          False  \n",
       "...          ...  \n",
       "29994      False  \n",
       "29995      False  \n",
       "29996      False  \n",
       "29997      False  \n",
       "29998      False  \n",
       "\n",
       "[29999 rows x 12 columns]>"
      ]
     },
     "execution_count": 52,
     "metadata": {},
     "output_type": "execute_result"
    }
   ],
   "source": [
    "# Check if there is any empyty value\n",
    "df.isnull().sum "
   ]
  },
  {
   "cell_type": "code",
   "execution_count": 53,
   "id": "9a35997b",
   "metadata": {},
   "outputs": [],
   "source": [
    "#define bool_to_int function for converting first 4 columns into numbers\n",
    "def bool_to_int(df):\n",
    "    df1 = [int(val) for val in df]\n",
    "    return df1"
   ]
  },
  {
   "cell_type": "code",
   "execution_count": 54,
   "id": "db50310a",
   "metadata": {},
   "outputs": [],
   "source": [
    "df.Balcony = bool_to_int(df.Balcony)\n",
    "df['Has Kitchen'] = bool_to_int(df['Has Kitchen'])\n",
    "df.Garden = bool_to_int(df.Garden)\n",
    "df.Lift = bool_to_int(df.Lift)"
   ]
  },
  {
   "cell_type": "code",
   "execution_count": 55,
   "id": "ddd9c035",
   "metadata": {},
   "outputs": [
    {
     "data": {
      "text/plain": [
       "(29999, 12)"
      ]
     },
     "execution_count": 55,
     "metadata": {},
     "output_type": "execute_result"
    }
   ],
   "source": [
    "df.shape"
   ]
  },
  {
   "cell_type": "code",
   "execution_count": 56,
   "id": "7a423fc6",
   "metadata": {},
   "outputs": [],
   "source": [
    "# Drop all the rows containing empty values\n",
    "df= df.dropna()"
   ]
  },
  {
   "cell_type": "code",
   "execution_count": 57,
   "id": "0703d3af",
   "metadata": {},
   "outputs": [
    {
     "data": {
      "text/plain": [
       "(16942, 12)"
      ]
     },
     "execution_count": 57,
     "metadata": {},
     "output_type": "execute_result"
    }
   ],
   "source": [
    "df.shape"
   ]
  },
  {
   "cell_type": "code",
   "execution_count": 58,
   "id": "01847a24",
   "metadata": {},
   "outputs": [
    {
     "data": {
      "text/html": [
       "<div>\n",
       "<style scoped>\n",
       "    .dataframe tbody tr th:only-of-type {\n",
       "        vertical-align: middle;\n",
       "    }\n",
       "\n",
       "    .dataframe tbody tr th {\n",
       "        vertical-align: top;\n",
       "    }\n",
       "\n",
       "    .dataframe thead th {\n",
       "        text-align: right;\n",
       "    }\n",
       "</style>\n",
       "<table border=\"1\" class=\"dataframe\">\n",
       "  <thead>\n",
       "    <tr style=\"text-align: right;\">\n",
       "      <th></th>\n",
       "      <th>Balcony</th>\n",
       "      <th>Has Kitchen</th>\n",
       "      <th>Garden</th>\n",
       "      <th>Lift</th>\n",
       "      <th>Price Trend</th>\n",
       "      <th>Telekom Upload Speed</th>\n",
       "      <th>Year Constructed</th>\n",
       "      <th>living Space</th>\n",
       "      <th>no Rooms</th>\n",
       "      <th>Floor</th>\n",
       "      <th>Service Charge</th>\n",
       "      <th>Base Rent</th>\n",
       "    </tr>\n",
       "  </thead>\n",
       "  <tbody>\n",
       "    <tr>\n",
       "      <th>count</th>\n",
       "      <td>16942.000000</td>\n",
       "      <td>16942.000000</td>\n",
       "      <td>16942.000000</td>\n",
       "      <td>16942.000000</td>\n",
       "      <td>16942.000000</td>\n",
       "      <td>16942.000000</td>\n",
       "      <td>16942.000000</td>\n",
       "      <td>16942.000000</td>\n",
       "      <td>16942.000000</td>\n",
       "      <td>16942.000000</td>\n",
       "      <td>16942.000000</td>\n",
       "      <td>16942.000000</td>\n",
       "    </tr>\n",
       "    <tr>\n",
       "      <th>mean</th>\n",
       "      <td>0.642545</td>\n",
       "      <td>0.300496</td>\n",
       "      <td>0.183745</td>\n",
       "      <td>0.233384</td>\n",
       "      <td>3.235592</td>\n",
       "      <td>28.759674</td>\n",
       "      <td>1962.858871</td>\n",
       "      <td>71.651250</td>\n",
       "      <td>2.628285</td>\n",
       "      <td>2.177901</td>\n",
       "      <td>145.214577</td>\n",
       "      <td>606.542525</td>\n",
       "    </tr>\n",
       "    <tr>\n",
       "      <th>std</th>\n",
       "      <td>0.479264</td>\n",
       "      <td>0.458487</td>\n",
       "      <td>0.387287</td>\n",
       "      <td>0.422997</td>\n",
       "      <td>2.024291</td>\n",
       "      <td>16.424312</td>\n",
       "      <td>46.600519</td>\n",
       "      <td>30.222941</td>\n",
       "      <td>1.204055</td>\n",
       "      <td>2.090054</td>\n",
       "      <td>83.981575</td>\n",
       "      <td>496.319131</td>\n",
       "    </tr>\n",
       "    <tr>\n",
       "      <th>min</th>\n",
       "      <td>0.000000</td>\n",
       "      <td>0.000000</td>\n",
       "      <td>0.000000</td>\n",
       "      <td>0.000000</td>\n",
       "      <td>-9.170000</td>\n",
       "      <td>1.000000</td>\n",
       "      <td>1111.000000</td>\n",
       "      <td>0.000000</td>\n",
       "      <td>1.000000</td>\n",
       "      <td>-1.000000</td>\n",
       "      <td>0.000000</td>\n",
       "      <td>0.000000</td>\n",
       "    </tr>\n",
       "    <tr>\n",
       "      <th>25%</th>\n",
       "      <td>0.000000</td>\n",
       "      <td>0.000000</td>\n",
       "      <td>0.000000</td>\n",
       "      <td>0.000000</td>\n",
       "      <td>1.830000</td>\n",
       "      <td>10.000000</td>\n",
       "      <td>1938.000000</td>\n",
       "      <td>54.280000</td>\n",
       "      <td>2.000000</td>\n",
       "      <td>1.000000</td>\n",
       "      <td>90.000000</td>\n",
       "      <td>320.000000</td>\n",
       "    </tr>\n",
       "    <tr>\n",
       "      <th>50%</th>\n",
       "      <td>1.000000</td>\n",
       "      <td>0.000000</td>\n",
       "      <td>0.000000</td>\n",
       "      <td>0.000000</td>\n",
       "      <td>3.210000</td>\n",
       "      <td>40.000000</td>\n",
       "      <td>1970.000000</td>\n",
       "      <td>65.400000</td>\n",
       "      <td>3.000000</td>\n",
       "      <td>2.000000</td>\n",
       "      <td>130.000000</td>\n",
       "      <td>440.000000</td>\n",
       "    </tr>\n",
       "    <tr>\n",
       "      <th>75%</th>\n",
       "      <td>1.000000</td>\n",
       "      <td>1.000000</td>\n",
       "      <td>0.000000</td>\n",
       "      <td>0.000000</td>\n",
       "      <td>4.450000</td>\n",
       "      <td>40.000000</td>\n",
       "      <td>1993.000000</td>\n",
       "      <td>83.000000</td>\n",
       "      <td>3.000000</td>\n",
       "      <td>3.000000</td>\n",
       "      <td>180.000000</td>\n",
       "      <td>725.000000</td>\n",
       "    </tr>\n",
       "    <tr>\n",
       "      <th>max</th>\n",
       "      <td>1.000000</td>\n",
       "      <td>1.000000</td>\n",
       "      <td>1.000000</td>\n",
       "      <td>1.000000</td>\n",
       "      <td>12.260000</td>\n",
       "      <td>100.000000</td>\n",
       "      <td>2020.000000</td>\n",
       "      <td>600.000000</td>\n",
       "      <td>99.500000</td>\n",
       "      <td>136.000000</td>\n",
       "      <td>1700.000000</td>\n",
       "      <td>12000.000000</td>\n",
       "    </tr>\n",
       "  </tbody>\n",
       "</table>\n",
       "</div>"
      ],
      "text/plain": [
       "            Balcony   Has Kitchen        Garden          Lift   Price Trend  \\\n",
       "count  16942.000000  16942.000000  16942.000000  16942.000000  16942.000000   \n",
       "mean       0.642545      0.300496      0.183745      0.233384      3.235592   \n",
       "std        0.479264      0.458487      0.387287      0.422997      2.024291   \n",
       "min        0.000000      0.000000      0.000000      0.000000     -9.170000   \n",
       "25%        0.000000      0.000000      0.000000      0.000000      1.830000   \n",
       "50%        1.000000      0.000000      0.000000      0.000000      3.210000   \n",
       "75%        1.000000      1.000000      0.000000      0.000000      4.450000   \n",
       "max        1.000000      1.000000      1.000000      1.000000     12.260000   \n",
       "\n",
       "       Telekom Upload Speed  Year Constructed  living Space      no Rooms  \\\n",
       "count          16942.000000      16942.000000  16942.000000  16942.000000   \n",
       "mean              28.759674       1962.858871     71.651250      2.628285   \n",
       "std               16.424312         46.600519     30.222941      1.204055   \n",
       "min                1.000000       1111.000000      0.000000      1.000000   \n",
       "25%               10.000000       1938.000000     54.280000      2.000000   \n",
       "50%               40.000000       1970.000000     65.400000      3.000000   \n",
       "75%               40.000000       1993.000000     83.000000      3.000000   \n",
       "max              100.000000       2020.000000    600.000000     99.500000   \n",
       "\n",
       "              Floor  Service Charge     Base Rent  \n",
       "count  16942.000000    16942.000000  16942.000000  \n",
       "mean       2.177901      145.214577    606.542525  \n",
       "std        2.090054       83.981575    496.319131  \n",
       "min       -1.000000        0.000000      0.000000  \n",
       "25%        1.000000       90.000000    320.000000  \n",
       "50%        2.000000      130.000000    440.000000  \n",
       "75%        3.000000      180.000000    725.000000  \n",
       "max      136.000000     1700.000000  12000.000000  "
      ]
     },
     "execution_count": 58,
     "metadata": {},
     "output_type": "execute_result"
    }
   ],
   "source": [
    "df.describe()"
   ]
  },
  {
   "cell_type": "code",
   "execution_count": 59,
   "id": "44de9699",
   "metadata": {
    "scrolled": true
   },
   "outputs": [
    {
     "data": {
      "text/plain": [
       "Balcony                 0\n",
       "Has Kitchen             0\n",
       "Garden                  0\n",
       "Lift                    0\n",
       "Price Trend             0\n",
       "Telekom Upload Speed    0\n",
       "Year Constructed        0\n",
       "living Space            0\n",
       "no Rooms                0\n",
       "Floor                   0\n",
       "Service Charge          0\n",
       "Base Rent               0\n",
       "dtype: int64"
      ]
     },
     "execution_count": 59,
     "metadata": {},
     "output_type": "execute_result"
    }
   ],
   "source": [
    "df.isnull().sum() "
   ]
  },
  {
   "cell_type": "code",
   "execution_count": 60,
   "id": "891810ad",
   "metadata": {
    "scrolled": true
   },
   "outputs": [
    {
     "data": {
      "text/plain": [
       "0        1965.0\n",
       "2        2019.0\n",
       "3        1964.0\n",
       "8        1970.0\n",
       "9        1953.0\n",
       "          ...  \n",
       "29988    1992.0\n",
       "29990    1907.0\n",
       "29991    1994.0\n",
       "29993    1920.0\n",
       "29996    1974.0\n",
       "Name: Year Constructed, Length: 16942, dtype: float64"
      ]
     },
     "execution_count": 60,
     "metadata": {},
     "output_type": "execute_result"
    }
   ],
   "source": [
    "df['Year Constructed']"
   ]
  },
  {
   "cell_type": "code",
   "execution_count": 61,
   "id": "a734b83e",
   "metadata": {
    "scrolled": false
   },
   "outputs": [],
   "source": [
    " #Compute the number of years since the building was built\n",
    "df['Year Constructed'] = datetime.datetime.now().year-df['Year Constructed']"
   ]
  },
  {
   "cell_type": "code",
   "execution_count": 62,
   "id": "880b300f",
   "metadata": {
    "scrolled": false
   },
   "outputs": [
    {
     "data": {
      "text/plain": [
       "0         57.0\n",
       "2          3.0\n",
       "3         58.0\n",
       "8         52.0\n",
       "9         69.0\n",
       "         ...  \n",
       "29988     30.0\n",
       "29990    115.0\n",
       "29991     28.0\n",
       "29993    102.0\n",
       "29996     48.0\n",
       "Name: Year Constructed, Length: 16942, dtype: float64"
      ]
     },
     "execution_count": 62,
     "metadata": {},
     "output_type": "execute_result"
    }
   ],
   "source": [
    "df['Year Constructed']"
   ]
  },
  {
   "cell_type": "code",
   "execution_count": 63,
   "id": "898b5e17",
   "metadata": {},
   "outputs": [
    {
     "data": {
      "text/plain": [
       "Index(['Balcony', 'Has Kitchen', 'Garden', 'Lift', 'Price Trend',\n",
       "       'Telekom Upload Speed', 'Year Constructed', 'living Space', 'no Rooms',\n",
       "       'Floor', 'Service Charge', 'Base Rent'],\n",
       "      dtype='object')"
      ]
     },
     "execution_count": 63,
     "metadata": {},
     "output_type": "execute_result"
    }
   ],
   "source": [
    "df.columns"
   ]
  },
  {
   "cell_type": "code",
   "execution_count": 64,
   "id": "99f3d552",
   "metadata": {},
   "outputs": [
    {
     "data": {
      "text/html": [
       "<div>\n",
       "<style scoped>\n",
       "    .dataframe tbody tr th:only-of-type {\n",
       "        vertical-align: middle;\n",
       "    }\n",
       "\n",
       "    .dataframe tbody tr th {\n",
       "        vertical-align: top;\n",
       "    }\n",
       "\n",
       "    .dataframe thead th {\n",
       "        text-align: right;\n",
       "    }\n",
       "</style>\n",
       "<table border=\"1\" class=\"dataframe\">\n",
       "  <thead>\n",
       "    <tr style=\"text-align: right;\">\n",
       "      <th></th>\n",
       "      <th>Balcony</th>\n",
       "      <th>Has Kitchen</th>\n",
       "      <th>Garden</th>\n",
       "      <th>Lift</th>\n",
       "      <th>Price Trend</th>\n",
       "      <th>Telekom Upload Speed</th>\n",
       "      <th>Year Constructed</th>\n",
       "      <th>living Space</th>\n",
       "      <th>no Rooms</th>\n",
       "      <th>Floor</th>\n",
       "      <th>Service Charge</th>\n",
       "      <th>Base Rent</th>\n",
       "    </tr>\n",
       "  </thead>\n",
       "  <tbody>\n",
       "    <tr>\n",
       "      <th>count</th>\n",
       "      <td>16942.000000</td>\n",
       "      <td>16942.000000</td>\n",
       "      <td>16942.000000</td>\n",
       "      <td>16942.000000</td>\n",
       "      <td>16942.000000</td>\n",
       "      <td>16942.000000</td>\n",
       "      <td>16942.000000</td>\n",
       "      <td>16942.000000</td>\n",
       "      <td>16942.000000</td>\n",
       "      <td>16942.000000</td>\n",
       "      <td>16942.000000</td>\n",
       "      <td>16942.000000</td>\n",
       "    </tr>\n",
       "    <tr>\n",
       "      <th>mean</th>\n",
       "      <td>0.642545</td>\n",
       "      <td>0.300496</td>\n",
       "      <td>0.183745</td>\n",
       "      <td>0.233384</td>\n",
       "      <td>3.235592</td>\n",
       "      <td>28.759674</td>\n",
       "      <td>59.141129</td>\n",
       "      <td>71.651250</td>\n",
       "      <td>2.628285</td>\n",
       "      <td>2.177901</td>\n",
       "      <td>145.214577</td>\n",
       "      <td>606.542525</td>\n",
       "    </tr>\n",
       "    <tr>\n",
       "      <th>std</th>\n",
       "      <td>0.479264</td>\n",
       "      <td>0.458487</td>\n",
       "      <td>0.387287</td>\n",
       "      <td>0.422997</td>\n",
       "      <td>2.024291</td>\n",
       "      <td>16.424312</td>\n",
       "      <td>46.600519</td>\n",
       "      <td>30.222941</td>\n",
       "      <td>1.204055</td>\n",
       "      <td>2.090054</td>\n",
       "      <td>83.981575</td>\n",
       "      <td>496.319131</td>\n",
       "    </tr>\n",
       "    <tr>\n",
       "      <th>min</th>\n",
       "      <td>0.000000</td>\n",
       "      <td>0.000000</td>\n",
       "      <td>0.000000</td>\n",
       "      <td>0.000000</td>\n",
       "      <td>-9.170000</td>\n",
       "      <td>1.000000</td>\n",
       "      <td>2.000000</td>\n",
       "      <td>0.000000</td>\n",
       "      <td>1.000000</td>\n",
       "      <td>-1.000000</td>\n",
       "      <td>0.000000</td>\n",
       "      <td>0.000000</td>\n",
       "    </tr>\n",
       "    <tr>\n",
       "      <th>25%</th>\n",
       "      <td>0.000000</td>\n",
       "      <td>0.000000</td>\n",
       "      <td>0.000000</td>\n",
       "      <td>0.000000</td>\n",
       "      <td>1.830000</td>\n",
       "      <td>10.000000</td>\n",
       "      <td>29.000000</td>\n",
       "      <td>54.280000</td>\n",
       "      <td>2.000000</td>\n",
       "      <td>1.000000</td>\n",
       "      <td>90.000000</td>\n",
       "      <td>320.000000</td>\n",
       "    </tr>\n",
       "    <tr>\n",
       "      <th>50%</th>\n",
       "      <td>1.000000</td>\n",
       "      <td>0.000000</td>\n",
       "      <td>0.000000</td>\n",
       "      <td>0.000000</td>\n",
       "      <td>3.210000</td>\n",
       "      <td>40.000000</td>\n",
       "      <td>52.000000</td>\n",
       "      <td>65.400000</td>\n",
       "      <td>3.000000</td>\n",
       "      <td>2.000000</td>\n",
       "      <td>130.000000</td>\n",
       "      <td>440.000000</td>\n",
       "    </tr>\n",
       "    <tr>\n",
       "      <th>75%</th>\n",
       "      <td>1.000000</td>\n",
       "      <td>1.000000</td>\n",
       "      <td>0.000000</td>\n",
       "      <td>0.000000</td>\n",
       "      <td>4.450000</td>\n",
       "      <td>40.000000</td>\n",
       "      <td>84.000000</td>\n",
       "      <td>83.000000</td>\n",
       "      <td>3.000000</td>\n",
       "      <td>3.000000</td>\n",
       "      <td>180.000000</td>\n",
       "      <td>725.000000</td>\n",
       "    </tr>\n",
       "    <tr>\n",
       "      <th>max</th>\n",
       "      <td>1.000000</td>\n",
       "      <td>1.000000</td>\n",
       "      <td>1.000000</td>\n",
       "      <td>1.000000</td>\n",
       "      <td>12.260000</td>\n",
       "      <td>100.000000</td>\n",
       "      <td>911.000000</td>\n",
       "      <td>600.000000</td>\n",
       "      <td>99.500000</td>\n",
       "      <td>136.000000</td>\n",
       "      <td>1700.000000</td>\n",
       "      <td>12000.000000</td>\n",
       "    </tr>\n",
       "  </tbody>\n",
       "</table>\n",
       "</div>"
      ],
      "text/plain": [
       "            Balcony   Has Kitchen        Garden          Lift   Price Trend  \\\n",
       "count  16942.000000  16942.000000  16942.000000  16942.000000  16942.000000   \n",
       "mean       0.642545      0.300496      0.183745      0.233384      3.235592   \n",
       "std        0.479264      0.458487      0.387287      0.422997      2.024291   \n",
       "min        0.000000      0.000000      0.000000      0.000000     -9.170000   \n",
       "25%        0.000000      0.000000      0.000000      0.000000      1.830000   \n",
       "50%        1.000000      0.000000      0.000000      0.000000      3.210000   \n",
       "75%        1.000000      1.000000      0.000000      0.000000      4.450000   \n",
       "max        1.000000      1.000000      1.000000      1.000000     12.260000   \n",
       "\n",
       "       Telekom Upload Speed  Year Constructed  living Space      no Rooms  \\\n",
       "count          16942.000000      16942.000000  16942.000000  16942.000000   \n",
       "mean              28.759674         59.141129     71.651250      2.628285   \n",
       "std               16.424312         46.600519     30.222941      1.204055   \n",
       "min                1.000000          2.000000      0.000000      1.000000   \n",
       "25%               10.000000         29.000000     54.280000      2.000000   \n",
       "50%               40.000000         52.000000     65.400000      3.000000   \n",
       "75%               40.000000         84.000000     83.000000      3.000000   \n",
       "max              100.000000        911.000000    600.000000     99.500000   \n",
       "\n",
       "              Floor  Service Charge     Base Rent  \n",
       "count  16942.000000    16942.000000  16942.000000  \n",
       "mean       2.177901      145.214577    606.542525  \n",
       "std        2.090054       83.981575    496.319131  \n",
       "min       -1.000000        0.000000      0.000000  \n",
       "25%        1.000000       90.000000    320.000000  \n",
       "50%        2.000000      130.000000    440.000000  \n",
       "75%        3.000000      180.000000    725.000000  \n",
       "max      136.000000     1700.000000  12000.000000  "
      ]
     },
     "execution_count": 64,
     "metadata": {},
     "output_type": "execute_result"
    }
   ],
   "source": [
    "#Check the dataframe\n",
    "df.describe()"
   ]
  },
  {
   "cell_type": "markdown",
   "id": "ea9613dc",
   "metadata": {},
   "source": [
    "### Split data into training set and test set"
   ]
  },
  {
   "cell_type": "code",
   "execution_count": 65,
   "id": "da9ae3b9",
   "metadata": {},
   "outputs": [],
   "source": [
    " # Define a split_ function to randomly split the data into training and test set with given ratio\n",
    "def split_(X,y,r,shuffle = True):\n",
    "    n = int(r*len(X))\n",
    "    \n",
    "    if shuffle:\n",
    "        ind = np.random.permutation(len(X))\n",
    "    else:\n",
    "        ind = np.arange(len(X))\n",
    "    \n",
    "    return X[ind[:n]],y[ind[:n]],X[ind[n:]],y[ind[n:]]\n"
   ]
  },
  {
   "cell_type": "code",
   "execution_count": 66,
   "id": "41dc9da2",
   "metadata": {},
   "outputs": [],
   "source": [
    "# Define 'Base Rent' as y\n",
    "y = df['Base Rent'].to_numpy(copy = True)"
   ]
  },
  {
   "cell_type": "code",
   "execution_count": 67,
   "id": "b513682d",
   "metadata": {},
   "outputs": [],
   "source": [
    "# Define first 11 columns as X\n",
    "X = df.iloc[:,0:-2].to_numpy(copy = True)\n",
    "X = np.c_[np.ones(X.shape[0]),X]"
   ]
  },
  {
   "cell_type": "code",
   "execution_count": 68,
   "id": "feaba6e5",
   "metadata": {},
   "outputs": [],
   "source": [
    "X_train, y_train, X_test, y_test = split_(X,y,0.8)"
   ]
  },
  {
   "cell_type": "code",
   "execution_count": 69,
   "id": "30a06fc0",
   "metadata": {
    "scrolled": true
   },
   "outputs": [
    {
     "data": {
      "text/plain": [
       "(13553, 11)"
      ]
     },
     "execution_count": 69,
     "metadata": {},
     "output_type": "execute_result"
    }
   ],
   "source": [
    "# Check the shape of X_train is the same as y_train\n",
    "X_train.shape"
   ]
  },
  {
   "cell_type": "code",
   "execution_count": 70,
   "id": "311afd9b",
   "metadata": {},
   "outputs": [
    {
     "data": {
      "text/plain": [
       "(13553,)"
      ]
     },
     "execution_count": 70,
     "metadata": {},
     "output_type": "execute_result"
    }
   ],
   "source": [
    "y_train.shape"
   ]
  },
  {
   "cell_type": "markdown",
   "id": "05f6af54",
   "metadata": {},
   "source": [
    " ### Fit linear models"
   ]
  },
  {
   "cell_type": "code",
   "execution_count": 71,
   "id": "fa341bc6",
   "metadata": {},
   "outputs": [],
   "source": [
    "# Define a function to compute the w value\n",
    "def solve_lin_model(X,y):\n",
    "    return inv(X.transpose()@X)@(X.transpose())@y"
   ]
  },
  {
   "cell_type": "code",
   "execution_count": 72,
   "id": "a1dc3418",
   "metadata": {},
   "outputs": [],
   "source": [
    "# Compute w with X_train and y_train\n",
    "w1=solve_lin_model(X_train,y_train)"
   ]
  },
  {
   "cell_type": "code",
   "execution_count": 73,
   "id": "af847953",
   "metadata": {},
   "outputs": [],
   "source": [
    "# Define a function to compute R2 score which reflects the proportion of the y that is predictable from the linear model\n",
    "def R2_score(X,y,weights):\n",
    "    TSS = ((y-y.mean())**2).sum()\n",
    "    RSS = ((y - X@weights)**2).sum()\n",
    "    return 1- RSS/TSS"
   ]
  },
  {
   "cell_type": "code",
   "execution_count": 74,
   "id": "25d11eff",
   "metadata": {
    "scrolled": true
   },
   "outputs": [
    {
     "data": {
      "text/plain": [
       "(0.6830619180678636, 0.6851853809053279)"
      ]
     },
     "execution_count": 74,
     "metadata": {},
     "output_type": "execute_result"
    }
   ],
   "source": [
    "R2_score(X_train,y_train,w1),R2_score(X_test, y_test,w1)"
   ]
  },
  {
   "cell_type": "markdown",
   "id": "43f70cb2",
   "metadata": {},
   "source": [
    "### Generalized linear models"
   ]
  },
  {
   "cell_type": "code",
   "execution_count": 75,
   "id": "f4530f05",
   "metadata": {},
   "outputs": [],
   "source": [
    "# Add a column with an interaction between the living space and number of rooms\n",
    "df['space x room'] = df['living Space']*df['no Rooms']"
   ]
  },
  {
   "cell_type": "code",
   "execution_count": 76,
   "id": "be624837",
   "metadata": {},
   "outputs": [],
   "source": [
    "Z = df[['Balcony', 'Has Kitchen', 'Garden', 'Lift',\n",
    "       'Telekom Upload Speed', 'Year Constructed', 'living Space',\n",
    "       'no Rooms', 'Floor', 'Service Charge', \n",
    "       'space x room']].to_numpy(copy = True)\n",
    "Z = np.c_[np.ones(Z.shape[0]),Z]"
   ]
  },
  {
   "cell_type": "code",
   "execution_count": 77,
   "id": "21cc730c",
   "metadata": {},
   "outputs": [],
   "source": [
    "# Set 70% data as training data, left the remaining 30% for testing\n",
    "Z_train, y_train, Z_test, y_test = split_(Z,y,0.7)"
   ]
  },
  {
   "cell_type": "code",
   "execution_count": 78,
   "id": "a472b006",
   "metadata": {},
   "outputs": [],
   "source": [
    "# Using training data to get w2\n",
    "w2=solve_lin_model(Z_train,y_train)"
   ]
  },
  {
   "cell_type": "code",
   "execution_count": 79,
   "id": "1d77f32f",
   "metadata": {},
   "outputs": [
    {
     "data": {
      "text/plain": [
       "(0.6456208141314663, 0.6536506789286176)"
      ]
     },
     "execution_count": 79,
     "metadata": {},
     "output_type": "execute_result"
    }
   ],
   "source": [
    "#Rresult shows the linear model explains 65% training data, and 64% testing data.\n",
    "\n",
    "R2_score(Z_train,y_train,w2), R2_score(Z_test, y_test,w2)"
   ]
  },
  {
   "cell_type": "markdown",
   "id": "f8d8c272",
   "metadata": {},
   "source": [
    "### Regularized models"
   ]
  },
  {
   "cell_type": "code",
   "execution_count": 80,
   "id": "4d938caa",
   "metadata": {},
   "outputs": [],
   "source": [
    "#To reduce the noises from the linear model, standard regularization is applied here.\n",
    "def solve_lin_model_reg(Z,y,l):\n",
    "    return inv(Z.transpose()@Z+l*np.eye(len(Z.transpose())))@(Z.transpose())@y"
   ]
  },
  {
   "cell_type": "code",
   "execution_count": 81,
   "id": "f089cdf4",
   "metadata": {},
   "outputs": [],
   "source": [
    "# To fix the random data, seed was introduced here. Traning data % set with 70%, 30% remained for testing.\n",
    "np.random.seed(10)\n",
    "Z_train,y_train,Z_test,y_test = split_(Z,y,r=.7)"
   ]
  },
  {
   "cell_type": "code",
   "execution_count": 82,
   "id": "0a762678",
   "metadata": {},
   "outputs": [
    {
     "name": "stdout",
     "output_type": "stream",
     "text": [
      "0.0006\t0.6729302275199764\t0.45681975519974427\n",
      "0.0011\t0.6729302275199689\t0.4568197688854291\n",
      "0.0016\t0.6729302275199571\t0.4568197825711615\n",
      "0.0021\t0.6729302275199408\t0.45681979625691316\n",
      "0.0026\t0.67293022751992\t0.4568198099426769\n",
      "0.0031\t0.672930227519895\t0.45681982362846985\n",
      "0.0036\t0.6729302275198655\t0.45681983731429\n",
      "0.0041\t0.6729302275198317\t0.45681985100014366\n",
      "0.0046\t0.6729302275197934\t0.45681986468603986\n",
      "0.0051\t0.6729302275197506\t0.4568198783719325\n",
      "0.0056\t0.6729302275197035\t0.45681989205788154\n",
      "0.0061\t0.672930227519652\t0.4568199057438369\n",
      "0.0066\t0.6729302275195962\t0.45681991942981015\n",
      "0.0071\t0.6729302275195358\t0.45681993311582714\n",
      "0.0076\t0.6729302275194711\t0.45681994680185456\n",
      "0.0081\t0.672930227519402\t0.4568199604879132\n",
      "0.0086\t0.6729302275193285\t0.456819974174011\n",
      "0.0091\t0.6729302275192506\t0.45681998786012934\n",
      "0.0096\t0.6729302275191682\t0.45682000154627445\n",
      "0.0101\t0.6729302275190816\t0.45682001523243077\n"
     ]
    }
   ],
   "source": [
    "# To find the best L for the model, R2 score were calculated for L ranged from 0.0006 to 0.0101\n",
    "# But the L for highest R2 score are different between training set and testing set.\n",
    "test_scores = []\n",
    "score_range = [0.0006 +0.0005*i for i in range(20)]\n",
    "for l in score_range:\n",
    "    w3 = solve_lin_model_reg(Z_train,y_train,l)\n",
    "    tscore = R2_score(Z_test,y_test,w3)\n",
    "    test_scores.append(tscore)\n",
    "    print(round(l,5),R2_score(Z_train,y_train,w3),R2_score(Z_test,y_test,w3),sep = '\\t')"
   ]
  },
  {
   "cell_type": "markdown",
   "id": "f181bbbe",
   "metadata": {},
   "source": [
    "### ML way"
   ]
  },
  {
   "cell_type": "code",
   "execution_count": 83,
   "id": "a003c565",
   "metadata": {},
   "outputs": [],
   "source": [
    "def predict(x,w):\n",
    "    return x@w\n",
    "\n",
    "def pt_error(xi,yi,w):\n",
    "    return predict(xi,w)-yi\n",
    "\n",
    "def pt_sq_error(xi,yi,w):\n",
    "    return pt_error(xi,yi,w)**2\n",
    "\n",
    "def MSE(X,y,w):\n",
    "    return pt_sq_error(X,y,w).sum()/len(X)\n",
    "\n",
    "def R2_score(X,y,w):\n",
    "    RSS = ((X@w-y)**2).sum()\n",
    "    TSS = ((y-y.mean())**2).sum()\n",
    "    return 1 - RSS/TSS"
   ]
  },
  {
   "cell_type": "code",
   "execution_count": 84,
   "id": "0a4b8547",
   "metadata": {},
   "outputs": [],
   "source": [
    "def grad_squared_error(xi,yi,w):\n",
    "    err=pt_error(xi,yi,w)\n",
    "    return 2*xi*err\n",
    "\n",
    "def grad_step(weights,gradient,lr):\n",
    "    return weights - lr*gradient"
   ]
  },
  {
   "cell_type": "code",
   "execution_count": 85,
   "id": "e39f7fd4",
   "metadata": {},
   "outputs": [
    {
     "data": {
      "text/plain": [
       "0.5129842486695797"
      ]
     },
     "execution_count": 85,
     "metadata": {},
     "output_type": "execute_result"
    }
   ],
   "source": [
    "lr = 1e-5\n",
    "\n",
    "#initialize weights\n",
    "weights = np.random.random(X.shape[1])\n",
    "w0 = weights.reshape(1,11)\n",
    "\n",
    "#one epoch\n",
    "for xi,yi in zip(X,y):\n",
    "    gradient = grad_squared_error(xi, yi, weights) # compute gradient\n",
    "    weights -= lr*gradient # update the weights\n",
    "    w0 = np.append(w0,weights.reshape(1,11),axis=0)\n",
    "    \n",
    "R2_score(X,y,weights)"
   ]
  },
  {
   "cell_type": "code",
   "execution_count": 86,
   "id": "06f85692",
   "metadata": {},
   "outputs": [
    {
     "data": {
      "text/plain": [
       "0.538502272455974"
      ]
     },
     "execution_count": 86,
     "metadata": {},
     "output_type": "execute_result"
    }
   ],
   "source": [
    "# seting learning rate to 0.000001, R2 higher than 1e-5\n",
    "lr = 1e-6\n",
    "\n",
    "#initialize weights\n",
    "weights = np.random.random(X.shape[1])\n",
    "w0 = weights.reshape(1,11)\n",
    "\n",
    "#one epoch\n",
    "for xi,yi in zip(X,y):\n",
    "    gradient = grad_squared_error(xi, yi, weights) # compute gradient\n",
    "    weights -= lr*gradient # update the weights\n",
    "    w0 = np.append(w0,weights.reshape(1,11),axis=0)\n",
    "    \n",
    "R2_score(X,y,weights)"
   ]
  },
  {
   "cell_type": "code",
   "execution_count": 87,
   "id": "add9d024",
   "metadata": {},
   "outputs": [
    {
     "data": {
      "text/plain": [
       "0.5296658368314957"
      ]
     },
     "execution_count": 87,
     "metadata": {},
     "output_type": "execute_result"
    }
   ],
   "source": [
    "# seting learning rate to 0.0000001, R2 lower than 1e-6\n",
    "lr = 1e-7\n",
    "\n",
    "#initialize weights\n",
    "weights = np.random.random(X.shape[1])\n",
    "w0 = weights.reshape(1,11)\n",
    "\n",
    "#one epoch\n",
    "for xi,yi in zip(X,y):\n",
    "    gradient = grad_squared_error(xi, yi, weights) # compute gradient\n",
    "    weights -= lr*gradient # update the weights\n",
    "    w0 = np.append(w0,weights.reshape(1,11),axis=0)\n",
    "    \n",
    "R2_score(X,y,weights)"
   ]
  },
  {
   "cell_type": "code",
   "execution_count": 88,
   "id": "03648578",
   "metadata": {},
   "outputs": [
    {
     "data": {
      "text/plain": [
       "array([-4.16188778e+02,  9.67322938e+00,  1.51542022e+02, -4.89417589e+00,\n",
       "        1.53774415e+02,  6.22404605e+01,  3.72282258e-01, -2.89859278e-01,\n",
       "        1.11258318e+01, -2.12050737e+01, -1.86799392e-01])"
      ]
     },
     "execution_count": 88,
     "metadata": {},
     "output_type": "execute_result"
    }
   ],
   "source": [
    "# w computered by linear models using full x,y data\n",
    "from numpy.linalg import inv\n",
    "inv( X.transpose()@X )@X.transpose()@y"
   ]
  },
  {
   "cell_type": "code",
   "execution_count": 89,
   "id": "6b6ab934",
   "metadata": {},
   "outputs": [
    {
     "data": {
      "text/plain": [
       "array([ 0.08721963,  0.18682492,  0.82642433,  0.7690929 ,  0.8339906 ,\n",
       "        1.21382781,  0.07772126, -1.29987538, 10.03815358,  0.73588187,\n",
       "        0.4694185 ])"
      ]
     },
     "execution_count": 89,
     "metadata": {},
     "output_type": "execute_result"
    }
   ],
   "source": [
    "w0[-1] # w is far away from linear models"
   ]
  },
  {
   "cell_type": "code",
   "execution_count": 90,
   "id": "505a6325",
   "metadata": {},
   "outputs": [
    {
     "data": {
      "image/png": "[encoded data removed]",
      "text/plain": [
       "<Figure size 432x288 with 1 Axes>"
      ]
     },
     "metadata": {
      "needs_background": "light"
     },
     "output_type": "display_data"
    },
    {
     "data": {
      "image/png": "[encoded data removed]",
      "text/plain": [
       "<Figure size 432x288 with 1 Axes>"
      ]
     },
     "metadata": {
      "needs_background": "light"
     },
     "output_type": "display_data"
    },
    {
     "data": {
      "image/png": "[encoded data removed]",
      "text/plain": [
       "<Figure size 432x288 with 1 Axes>"
      ]
     },
     "metadata": {
      "needs_background": "light"
     },
     "output_type": "display_data"
    },
    {
     "data": {
      "image/png": "[encoded data removed]",
      "text/plain": [
       "<Figure size 432x288 with 1 Axes>"
      ]
     },
     "metadata": {
      "needs_background": "light"
     },
     "output_type": "display_data"
    },
    {
     "data": {
      "image/png": "[encoded data removed]",
      "text/plain": [
       "<Figure size 432x288 with 1 Axes>"
      ]
     },
     "metadata": {
      "needs_background": "light"
     },
     "output_type": "display_data"
    },
    {
     "data": {
      "image/png": "[encoded data removed]",
      "text/plain": [
       "<Figure size 432x288 with 1 Axes>"
      ]
     },
     "metadata": {
      "needs_background": "light"
     },
     "output_type": "display_data"
    },
    {
     "data": {
      "image/png": "[encoded data removed]",
      "text/plain": [
       "<Figure size 432x288 with 1 Axes>"
      ]
     },
     "metadata": {
      "needs_background": "light"
     },
     "output_type": "display_data"
    },
    {
     "data": {
      "image/png": "[encoded data removed]",
      "text/plain": [
       "<Figure size 432x288 with 1 Axes>"
      ]
     },
     "metadata": {
      "needs_background": "light"
     },
     "output_type": "display_data"
    },
    {
     "data": {
      "image/png": "[encoded data removed]",
      "text/plain": [
       "<Figure size 432x288 with 1 Axes>"
      ]
     },
     "metadata": {
      "needs_background": "light"
     },
     "output_type": "display_data"
    },
    {
     "data": {
      "image/png": "[encoded data removed]",
      "text/plain": [
       "<Figure size 432x288 with 1 Axes>"
      ]
     },
     "metadata": {
      "needs_background": "light"
     },
     "output_type": "display_data"
    },
    {
     "data": {
      "image/png": "[encoded data removed]",
      "text/plain": [
       "<Figure size 432x288 with 1 Axes>"
      ]
     },
     "metadata": {
      "needs_background": "light"
     },
     "output_type": "display_data"
    }
   ],
   "source": [
    "ind = 0\n",
    "for wi in w0.transpose():\n",
    "    title = 'w_{}'.format(ind)\n",
    "    ind+=1\n",
    "    plt.plot(wi)\n",
    "    plt.title(title)\n",
    "    plt.show()"
   ]
  },
  {
   "cell_type": "code",
   "execution_count": 94,
   "id": "b131940d",
   "metadata": {},
   "outputs": [],
   "source": [
    "from sklearn.linear_model import LinearRegression"
   ]
  },
  {
   "cell_type": "code",
   "execution_count": 95,
   "id": "6ec3bca5",
   "metadata": {},
   "outputs": [
    {
     "name": "stdout",
     "output_type": "stream",
     "text": [
      "w_0= -416.18877841970505  and w_1,w_2,w_3=,w_4=,w_5=,w_6=,w_7=,w_8=,w_9=,w_10= [  9.67322938 151.54202184  -4.89417589 153.77441483  62.24046053\n",
      "   0.37228226  -0.28985928  11.12583177 -21.20507371  -0.18679939]\n",
      "R2 score= 0.6838057003512197\n",
      "CPU times: total: 0 ns\n",
      "Wall time: 5 ms\n"
     ]
    }
   ],
   "source": [
    "%%time\n",
    "model = LinearRegression()\n",
    "model.fit(X,y)\n",
    "print('w_0=', model.intercept_, ' and w_1,w_2,w_3=,w_4=,w_5=,w_6=,w_7=,w_8=,w_9=,w_10=',model.coef_[1:])\n",
    "print('R2 score=', model.score(X,y))"
   ]
  },
  {
   "cell_type": "code",
   "execution_count": 96,
   "id": "419b2e4d",
   "metadata": {},
   "outputs": [
    {
     "data": {
      "text/plain": [
       "0.6838057003512197"
      ]
     },
     "execution_count": 96,
     "metadata": {},
     "output_type": "execute_result"
    }
   ],
   "source": [
    "weights = [model.intercept_, model.coef_[1],model.coef_[2], model.coef_[3],model.coef_[4],model.coef_[5],model.coef_[6],model.coef_[7],model.coef_[8],model.coef_[9],model.coef_[10]]\n",
    "R2_SK = R2_score(X,y,weights)\n",
    "R2_SK\n",
    "# Applied SKlearn for the whole data set to find the best w and get R2 score as 0.68, which is higher than any model above."
   ]
  },
  {
   "cell_type": "markdown",
   "id": "04d38463",
   "metadata": {},
   "source": [
    "## Regularization"
   ]
  },
  {
   "cell_type": "code",
   "execution_count": 97,
   "id": "77ca908b",
   "metadata": {},
   "outputs": [],
   "source": [
    "def grad_reg_squared_error(xi,yi,w,reg):\n",
    "    err = pt_error(xi,yi,w)\n",
    "    ww = w.copy()\n",
    "    ww[0] = 0 \n",
    "    return 2*xi*err + 2*reg*ww"
   ]
  },
  {
   "cell_type": "code",
   "execution_count": 98,
   "id": "e5a88c0f",
   "metadata": {},
   "outputs": [],
   "source": [
    "def reg_least_squares_fit(X, y, reg, lr=1e-5, n_epochs=100):\n",
    "    \n",
    "    weights = np.random.random(X.shape[1])\n",
    "    \n",
    "    for _ in trange(n_epochs, desc=\"least squares fit\"):\n",
    "        for xi,yi in zip(X,y):\n",
    "            gradient = grad_reg_squared_error(xi, yi, weights, reg)\n",
    "            weights -= lr*gradient \n",
    "\n",
    "    return weights"
   ]
  },
  {
   "cell_type": "code",
   "execution_count": 99,
   "id": "b82166d3",
   "metadata": {},
   "outputs": [
    {
     "data": {
      "application/vnd.jupyter.widget-view+json": {
       "model_id": "8818c24cc6f3452dacf65bb78f4722ea",
       "version_major": 2,
       "version_minor": 0
      },
      "text/plain": [
       "least squares fit:   0%|          | 0/100 [00:00<?, ?it/s]"
      ]
     },
     "metadata": {},
     "output_type": "display_data"
    },
    {
     "data": {
      "text/plain": [
       "array([-368.61197409,   -0.88784666,  149.55952703,  -11.1271394 ,\n",
       "        155.44142318,   60.12399292,   -6.20292651,    0.39751654,\n",
       "         11.88894864,  -25.73615228,   -1.61213032])"
      ]
     },
     "execution_count": 99,
     "metadata": {},
     "output_type": "execute_result"
    }
   ],
   "source": [
    "w4 = reg_least_squares_fit(X,y,reg=0.,n_epochs=100)\n",
    "w4"
   ]
  },
  {
   "cell_type": "code",
   "execution_count": 100,
   "id": "d1832421",
   "metadata": {},
   "outputs": [
    {
     "data": {
      "text/plain": [
       "0.6076856677640641"
      ]
     },
     "execution_count": 100,
     "metadata": {},
     "output_type": "execute_result"
    }
   ],
   "source": [
    "R2_score(X,y,w4)"
   ]
  },
  {
   "cell_type": "code",
   "execution_count": 101,
   "id": "e6357e51",
   "metadata": {},
   "outputs": [
    {
     "data": {
      "application/vnd.jupyter.widget-view+json": {
       "model_id": "47758e83e825406b926c529e62724b62",
       "version_major": 2,
       "version_minor": 0
      },
      "text/plain": [
       "least squares fit:   0%|          | 0/100 [00:00<?, ?it/s]"
      ]
     },
     "metadata": {},
     "output_type": "display_data"
    },
    {
     "data": {
      "application/vnd.jupyter.widget-view+json": {
       "model_id": "0a2b7efa1d904c4c8e8cc38d19847e88",
       "version_major": 2,
       "version_minor": 0
      },
      "text/plain": [
       "least squares fit:   0%|          | 0/100 [00:00<?, ?it/s]"
      ]
     },
     "metadata": {},
     "output_type": "display_data"
    },
    {
     "data": {
      "application/vnd.jupyter.widget-view+json": {
       "model_id": "48b4ad643f3444788fc934899543fb37",
       "version_major": 2,
       "version_minor": 0
      },
      "text/plain": [
       "least squares fit:   0%|          | 0/100 [00:00<?, ?it/s]"
      ]
     },
     "metadata": {},
     "output_type": "display_data"
    },
    {
     "data": {
      "application/vnd.jupyter.widget-view+json": {
       "model_id": "db0c0820a26a4f64ae14942000d05e8e",
       "version_major": 2,
       "version_minor": 0
      },
      "text/plain": [
       "least squares fit:   0%|          | 0/100 [00:00<?, ?it/s]"
      ]
     },
     "metadata": {},
     "output_type": "display_data"
    },
    {
     "data": {
      "application/vnd.jupyter.widget-view+json": {
       "model_id": "e648ffd507bb43db833b60d75e8acc11",
       "version_major": 2,
       "version_minor": 0
      },
      "text/plain": [
       "least squares fit:   0%|          | 0/100 [00:00<?, ?it/s]"
      ]
     },
     "metadata": {},
     "output_type": "display_data"
    },
    {
     "data": {
      "application/vnd.jupyter.widget-view+json": {
       "model_id": "afc35921759945dc91cf699a45e8cd16",
       "version_major": 2,
       "version_minor": 0
      },
      "text/plain": [
       "least squares fit:   0%|          | 0/100 [00:00<?, ?it/s]"
      ]
     },
     "metadata": {},
     "output_type": "display_data"
    },
    {
     "data": {
      "application/vnd.jupyter.widget-view+json": {
       "model_id": "01557e7ec698466a8db74fb95f9438c0",
       "version_major": 2,
       "version_minor": 0
      },
      "text/plain": [
       "least squares fit:   0%|          | 0/100 [00:00<?, ?it/s]"
      ]
     },
     "metadata": {},
     "output_type": "display_data"
    },
    {
     "data": {
      "application/vnd.jupyter.widget-view+json": {
       "model_id": "528a1eb1ce574d939c0798173fc739eb",
       "version_major": 2,
       "version_minor": 0
      },
      "text/plain": [
       "least squares fit:   0%|          | 0/100 [00:00<?, ?it/s]"
      ]
     },
     "metadata": {},
     "output_type": "display_data"
    },
    {
     "data": {
      "application/vnd.jupyter.widget-view+json": {
       "model_id": "760b15b287794b09be4db6241df4287e",
       "version_major": 2,
       "version_minor": 0
      },
      "text/plain": [
       "least squares fit:   0%|          | 0/100 [00:00<?, ?it/s]"
      ]
     },
     "metadata": {},
     "output_type": "display_data"
    },
    {
     "data": {
      "application/vnd.jupyter.widget-view+json": {
       "model_id": "24544c78c81747af889d924819e1c59e",
       "version_major": 2,
       "version_minor": 0
      },
      "text/plain": [
       "least squares fit:   0%|          | 0/100 [00:00<?, ?it/s]"
      ]
     },
     "metadata": {},
     "output_type": "display_data"
    },
    {
     "data": {
      "application/vnd.jupyter.widget-view+json": {
       "model_id": "2959d741c7ad4d5ba0d7e2937a1dccb4",
       "version_major": 2,
       "version_minor": 0
      },
      "text/plain": [
       "least squares fit:   0%|          | 0/100 [00:00<?, ?it/s]"
      ]
     },
     "metadata": {},
     "output_type": "display_data"
    }
   ],
   "source": [
    "scores = []\n",
    "reg_range = [0,1e-9,1e-8,1e-7,1e-6,1e-5,1e-4,1e-3,1e-2,.1,1]\n",
    "for reg in reg_range:\n",
    "    w = reg_least_squares_fit(X,y,reg=reg, lr=1e-6, n_epochs = 100)\n",
    "    scores.append(R2_score(X,y,w))"
   ]
  },
  {
   "cell_type": "code",
   "execution_count": 102,
   "id": "666d143a",
   "metadata": {},
   "outputs": [
    {
     "data": {
      "text/plain": [
       "[0.633729541724075,\n",
       " 0.6337783481310337,\n",
       " 0.633832079112536,\n",
       " 0.6336700965253248,\n",
       " 0.6336699057694413,\n",
       " 0.6338132306771123,\n",
       " 0.6337331531623454,\n",
       " 0.6337477144141,\n",
       " 0.6335092555308062,\n",
       " 0.6315907618215506,\n",
       " 0.6157380440922987]"
      ]
     },
     "execution_count": 102,
     "metadata": {},
     "output_type": "execute_result"
    }
   ],
   "source": [
    "scores"
   ]
  },
  {
   "cell_type": "markdown",
   "id": "fe22321e",
   "metadata": {},
   "source": [
    "## Regularization with minibatches"
   ]
  },
  {
   "cell_type": "code",
   "execution_count": 103,
   "id": "8d5c93cc",
   "metadata": {},
   "outputs": [],
   "source": [
    "def ridge_fit(X, y,reg,lr=1e-5, n_epochs=1000, batch_size=1, initial_weights=None, shuffle=False):\n",
    "    \n",
    "    if initial_weights:\n",
    "        weights = initial_weights\n",
    "    else:\n",
    "        weights = np.random.random(X.shape[1])\n",
    "\n",
    "    batch_starts = [start for start in range(0, len(X), batch_size)]\n",
    "    \n",
    "    for _ in trange(n_epochs, desc=\"least squares fit\"):\n",
    "        if shuffle: \n",
    "            np.random.shuffle(batch_starts)\n",
    "        for start in batch_starts:\n",
    "            batch_X = X[start:start+batch_size]\n",
    "            batch_y = y[start:start+batch_size]\n",
    "\n",
    "            gradient = np.array([grad_reg_squared_error(xi, yi, weights, reg)\n",
    "                                    for xi, yi in zip(batch_X, batch_y)]).mean(axis=0)\n",
    "            weights -= lr*gradient\n",
    "\n",
    "    return weights"
   ]
  },
  {
   "cell_type": "code",
   "execution_count": 104,
   "id": "c0ba9c2d",
   "metadata": {},
   "outputs": [
    {
     "data": {
      "application/vnd.jupyter.widget-view+json": {
       "model_id": "0bd7d61413d9432292c16ea582c1ebd2",
       "version_major": 2,
       "version_minor": 0
      },
      "text/plain": [
       "least squares fit:   0%|          | 0/300 [00:00<?, ?it/s]"
      ]
     },
     "metadata": {},
     "output_type": "display_data"
    }
   ],
   "source": [
    "w5 = ridge_fit(Z_train,y_train,reg=1e-6,lr=1e-8,n_epochs=300, batch_size= 5, shuffle=True)"
   ]
  },
  {
   "cell_type": "code",
   "execution_count": 105,
   "id": "7b3b2a40",
   "metadata": {},
   "outputs": [
    {
     "data": {
      "text/plain": [
       "(0.5795158303747474, 0.5611480659743073)"
      ]
     },
     "execution_count": 105,
     "metadata": {},
     "output_type": "execute_result"
    }
   ],
   "source": [
    "R2_score(Z_train,y_train,w5),R2_score(Z_test,y_test,w5)"
   ]
  },
  {
   "cell_type": "code",
   "execution_count": 106,
   "id": "eaf83cbc",
   "metadata": {},
   "outputs": [
    {
     "data": {
      "application/vnd.jupyter.widget-view+json": {
       "model_id": "56aa0de27d9d43bdaf4ca681d2289b3a",
       "version_major": 2,
       "version_minor": 0
      },
      "text/plain": [
       "least squares fit:   0%|          | 0/500 [00:00<?, ?it/s]"
      ]
     },
     "metadata": {},
     "output_type": "display_data"
    }
   ],
   "source": [
    "w6 = ridge_fit(Z_train,y_train,reg=1e-6,lr=1e-8,n_epochs=500, batch_size= 6, shuffle=True)"
   ]
  },
  {
   "cell_type": "code",
   "execution_count": 108,
   "id": "c81c4b8a",
   "metadata": {},
   "outputs": [
    {
     "data": {
      "text/plain": [
       "(0.5809227717510681, 0.5633118882817012)"
      ]
     },
     "execution_count": 108,
     "metadata": {},
     "output_type": "execute_result"
    }
   ],
   "source": [
    "R2_score(Z_train,y_train,w6),R2_score(Z_test,y_test,w6)"
   ]
  },
  {
   "cell_type": "code",
   "execution_count": 117,
   "id": "83c70d35",
   "metadata": {},
   "outputs": [],
   "source": [
    "model_1 = R2_score(X,y,w1)\n",
    "model_2 = R2_score(Z,y,w2)\n",
    "model_3 = R2_score(Z,y,w3)\n",
    "model_4 = R2_score(X,y,w4)\n",
    "model_5 = R2_score(Z,y,w5)\n",
    "model_6 = R2_score(Z,y,w6)"
   ]
  },
  {
   "cell_type": "code",
   "execution_count": 118,
   "id": "3f3d3b56",
   "metadata": {},
   "outputs": [
    {
     "data": {
      "text/plain": [
       "(0.6835487516866097,\n",
       " 0.6481388485482193,\n",
       " 0.6112312362145762,\n",
       " 0.6076856677640641,\n",
       " 0.5742733955657932,\n",
       " 0.5758964237737048)"
      ]
     },
     "execution_count": 118,
     "metadata": {},
     "output_type": "execute_result"
    }
   ],
   "source": [
    "model_1,model_2,model_3,model_4,model_5,model_6"
   ]
  },
  {
   "cell_type": "code",
   "execution_count": 119,
   "id": "5fb5fd04",
   "metadata": {},
   "outputs": [
    {
     "data": {
      "text/plain": [
       "[0.633729541724075,\n",
       " 0.6337783481310337,\n",
       " 0.633832079112536,\n",
       " 0.6336700965253248,\n",
       " 0.6336699057694413,\n",
       " 0.6338132306771123,\n",
       " 0.6337331531623454,\n",
       " 0.6337477144141,\n",
       " 0.6335092555308062,\n",
       " 0.6315907618215506,\n",
       " 0.6157380440922987]"
      ]
     },
     "execution_count": 119,
     "metadata": {},
     "output_type": "execute_result"
    }
   ],
   "source": [
    "scores"
   ]
  },
  {
   "cell_type": "code",
   "execution_count": 120,
   "id": "39b381b3",
   "metadata": {},
   "outputs": [
    {
     "data": {
      "text/plain": [
       "0.6838057003512197"
      ]
     },
     "execution_count": 120,
     "metadata": {},
     "output_type": "execute_result"
    }
   ],
   "source": [
    "R2_SK"
   ]
  },
  {
   "cell_type": "markdown",
   "id": "683fc497",
   "metadata": {},
   "source": [
    "### Conclusion"
   ]
  },
  {
   "cell_type": "markdown",
   "id": "73070a6c",
   "metadata": {},
   "source": [
    "The simply linear model has the highest R2 score on the test data with a 68.51% precision and is the closest to the benchmark.\n",
    "The others methods gave us less significant score of 65.36% for the generalized linear models, 45.68% for regularized model andSo for the data set here, the simple linear regression fits best."
   ]
  },
  {
   "cell_type": "code",
   "execution_count": null,
   "id": "5a5d2c91",
   "metadata": {},
   "outputs": [],
   "source": []
  }
 ],
 "metadata": {
  "kernelspec": {
   "display_name": "Python 3 (ipykernel)",
   "language": "python",
   "name": "python3"
  },
  "language_info": {
   "codemirror_mode": {
    "name": "ipython",
    "version": 3
   },
   "file_extension": ".py",
   "mimetype": "text/x-python",
   "name": "python",
   "nbconvert_exporter": "python",
   "pygments_lexer": "ipython3",
   "version": "3.9.12"
  },
  "vscode": {
   "interpreter": {
    "hash": "369f2c481f4da34e4445cda3fffd2e751bd1c4d706f27375911949ba6bb62e1c"
   }
  }
 },
 "nbformat": 4,
 "nbformat_minor": 5
}
